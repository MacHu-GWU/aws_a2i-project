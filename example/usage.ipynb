{
 "cells": [
  {
   "cell_type": "markdown",
   "source": [
    "# aws_a2i Usage Example"
   ],
   "metadata": {
    "collapsed": false,
    "pycharm": {
     "name": "#%% md\n"
    }
   }
  },
  {
   "cell_type": "code",
   "execution_count": 17,
   "outputs": [],
   "source": [
    "import os\n",
    "import uuid\n",
    "from pathlib import Path\n",
    "\n",
    "from boto_session_manager import BotoSesManager\n",
    "\n",
    "import aws_a2i"
   ],
   "metadata": {
    "collapsed": false,
    "pycharm": {
     "name": "#%%\n"
    }
   }
  },
  {
   "cell_type": "markdown",
   "source": [
    "First, we define some constant values"
   ],
   "metadata": {
    "collapsed": false,
    "pycharm": {
     "name": "#%% md\n"
    }
   }
  },
  {
   "cell_type": "code",
   "execution_count": 5,
   "outputs": [],
   "source": [
    "# the AWS boto session manager\n",
    "# see https://pypi.org/project/boto-session-manager/ for more information\n",
    "bsm = BotoSesManager(profile_name=\"aws_data_lab_sanhe_us_east_2\")\n",
    "\n",
    "dir_here = Path(os.getcwd()).absolute()\n",
    "\n",
    "# where you store the task template (the .liquid file)\n",
    "path_task_template = dir_here.parent.joinpath(\"task-ui.liquid\")\n",
    "# where you store the rendered task ui HTML\n",
    "path_task_ui_html = dir_here.parent.joinpath(\"task-ui.html\")\n",
    "\n",
    "# the Ground Truth private team ARN\n",
    "private_team_arn = (\n",
    "    \"arn:aws:sagemaker:us-east-2:669508176277:workteam/private-crowd/my-labeling-team\"\n",
    ")\n",
    "# task UI template name\n",
    "task_template_name = \"aws-a2i-example\"\n",
    "# Human Review Workflow name\n",
    "flow_definition_name = \"aws-a2i-example\"\n",
    "# The IAM role for Human Review Workflow\n",
    "flow_execution_role_arn = \"arn:aws:iam::669508176277:role/a2i_poc-a2i_execution_role\"\n",
    "# Where you store HIL output data\n",
    "output_bucket = \"669508176277-us-east-2-a2i-poc\"\n",
    "output_key = \"poc/aws_a2i/hil-output/\""
   ],
   "metadata": {
    "collapsed": false,
    "pycharm": {
     "name": "#%%\n"
    }
   }
  },
  {
   "cell_type": "markdown",
   "source": [
    "Preview Task UI Template, in this example, we build a reimbursement request review system.\n",
    "\n",
    "Given a reimbursement request, approve or deny it.\n",
    "\n",
    "```\n",
    "{\n",
    "        \"date_of_expense\": \"2020-01-01\",\n",
    "        \"payment_method\": \"Credit Card\",\n",
    "        \"purpose_of_expenditure\": \"Business Meal\",\n",
    "        \"amount\": \"36.99\",\n",
    "}\n",
    "```"
   ],
   "metadata": {
    "collapsed": false,
    "pycharm": {
     "name": "#%% md\n"
    }
   }
  },
  {
   "cell_type": "code",
   "execution_count": 9,
   "outputs": [
    {
     "name": "stdout",
     "output_type": "stream",
     "text": [
      "<script src=\"https://assets.crowd.aws/crowd-html-elements.js\"></script>\n",
      "\n",
      "<crowd-form>\n",
      "  <full-instructions header=\"Instructions\">\n",
      "    <p>Check the following data points: Date of expense, Payment method, Purpose of expenditure, amount. </p>\n",
      "  </full-instructions>\n",
      "\n",
      "  <short-instructions>\n",
      "    <p>Review this reimbursement request, approve or deny it.</p>\n",
      "  </short-instructions>\n",
      "\n",
      "  <h2>Reimbursement request</h2>\n",
      "  <ul>\n",
      "    <li>Date of expense = {{ task.input.date_of_expense }}</li>\n",
      "    <li>Payment method = {{ task.input.payment_method }}</li>\n",
      "    <li>Purpose of expenditure = {{ task.input.purpose_of_expenditure }}</li>\n",
      "    <li>Amount = $ {{ task.input.amount }}</li>\n",
      "  </ul>\n",
      "\n",
      "  <h2>Approve or deny it</h2>\n",
      "\n",
      "  <input type=\"radio\" id=\"approve\" name=\"decision\" value=\"approve\" required>\n",
      "  <label for=\"approve\">Approve</label>\n",
      "\n",
      "  <input type=\"radio\" id=\"deny\" name=\"decision\" value=\"deny\" required>\n",
      "  <label for=\"deny\">Deny</label>\n",
      "\n",
      "  <br>\n",
      "\n",
      "</crowd-form>\n",
      "\n"
     ]
    }
   ],
   "source": [
    "print(path_task_template.read_text())"
   ],
   "metadata": {
    "collapsed": false,
    "pycharm": {
     "name": "#%%\n"
    }
   }
  },
  {
   "cell_type": "markdown",
   "source": [
    "Deploy Task UI Template"
   ],
   "metadata": {
    "collapsed": false,
    "pycharm": {
     "name": "#%% md\n"
    }
   }
  },
  {
   "cell_type": "code",
   "execution_count": 10,
   "outputs": [
    {
     "name": "stdout",
     "output_type": "stream",
     "text": [
      "📋 Deploy Human in Loop task template\n",
      "  preview at https://console.aws.amazon.com/a2i/home?region=us-east-2#/worker-task-templates/aws-a2i-example\n",
      "  ✅ Successfully deployed task ui template 'aws-a2i-example'\n"
     ]
    }
   ],
   "source": [
    "aws_a2i.deploy_hil_task_template(\n",
    "    bsm=bsm,\n",
    "    task_template_name=task_template_name,\n",
    "    task_template_content=path_task_template.read_text(),\n",
    ")"
   ],
   "metadata": {
    "collapsed": false,
    "pycharm": {
     "name": "#%%\n"
    }
   }
  },
  {
   "cell_type": "markdown",
   "source": [
    "Then we can deploy the Human Review Workflow definition"
   ],
   "metadata": {
    "collapsed": false,
    "pycharm": {
     "name": "#%% md\n"
    }
   }
  },
  {
   "cell_type": "code",
   "execution_count": 11,
   "outputs": [
    {
     "name": "stdout",
     "output_type": "stream",
     "text": [
      "📋 Deploy Human review workflow definition, it may takes 30 sec ~ 1 minute\n",
      "  preview at https://console.aws.amazon.com/a2i/home?region=us-east-2#/human-review-workflows/aws-a2i-example\n",
      "📋 Create Human review workflow definition ...\n",
      "  on 1 th attempt, elapsed 1 seconds, remain 29 seconds ...\n",
      "  on 2 th attempt, elapsed 2 seconds, remain 28 seconds ...\n",
      "  ✅ Successfully deployed flow definition 'aws-a2i-example'\n"
     ]
    }
   ],
   "source": [
    "aws_a2i.deploy_flow_definition(\n",
    "    bsm=bsm,\n",
    "    flow_definition_name=flow_definition_name,\n",
    "    flow_execution_role_arn=flow_execution_role_arn,\n",
    "    labeling_team_arn=private_team_arn,\n",
    "    output_bucket=output_bucket,\n",
    "    output_key=output_key,\n",
    "    task_template_name=task_template_name,\n",
    "    task_description=\"Review reimbursement request\",\n",
    "    task_count=1,\n",
    ")"
   ],
   "metadata": {
    "collapsed": false,
    "pycharm": {
     "name": "#%%\n"
    }
   }
  },
  {
   "cell_type": "markdown",
   "source": [
    "Now the human review workflow is ready to use, let's start some human loop task and review some reimbursement request!"
   ],
   "metadata": {
    "collapsed": false,
    "pycharm": {
     "name": "#%% md\n"
    }
   }
  },
  {
   "cell_type": "code",
   "execution_count": 16,
   "outputs": [
    {
     "name": "stdout",
     "output_type": "stream",
     "text": [
      "Login to the workspace: https://3zqu42gydr.labeling.us-east-2.sagemaker.aws\n",
      "▶️ Start a Human Loop Task 'd1908e9b-1ff1-4e33-8990-df99a21513e7'\n",
      "  You can preview HIL status at https://us-east-2.console.aws.amazon.com/a2i/home?region=us-east-2#/human-review-workflows/aws-a2i-example/human-loops/d1908e9b-1ff1-4e33-8990-df99a21513e7\n"
     ]
    }
   ],
   "source": [
    "workspace_signin_url = aws_a2i.get_workspace_signin_url(\n",
    "    bsm=bsm,\n",
    "    work_team_name=aws_a2i.parse_team_name_from_private_team_arn(arn=private_team_arn),\n",
    ")\n",
    "print(f\"Login to the workspace: {workspace_signin_url}\")\n",
    "\n",
    "hil_arn = aws_a2i.start_human_loop(\n",
    "    bsm=bsm,\n",
    "    human_loop_name=str(uuid.uuid4()),\n",
    "    flow_definition_arn=aws_a2i.get_flow_definition_arn(\n",
    "        aws_account_id=bsm.aws_account_id,\n",
    "        aws_region=bsm.aws_region,\n",
    "        flow_definition_name=flow_definition_name,\n",
    "    ),\n",
    "    input_data={\n",
    "        \"date_of_expense\": \"2020-01-01\",\n",
    "        \"payment_method\": \"Credit Card\",\n",
    "        \"purpose_of_expenditure\": \"Business Meal\",\n",
    "        \"amount\": \"36.99\",\n",
    "    },\n",
    ")"
   ],
   "metadata": {
    "collapsed": false,
    "pycharm": {
     "name": "#%%\n"
    }
   }
  },
  {
   "cell_type": "markdown",
   "source": [
    "You can use the ``aws_a2i.render_task_template`` function to preview the task UI in your browser without starting a real human in the loop and without deploying anything. It is purely Python and purely local.\n",
    "\n",
    "![](./task-ui.png)"
   ],
   "metadata": {
    "collapsed": false,
    "pycharm": {
     "name": "#%% md\n"
    }
   }
  },
  {
   "cell_type": "code",
   "execution_count": 14,
   "outputs": [],
   "source": [
    "input_data = {\n",
    "    \"date_of_expense\": \"2020-01-01\",\n",
    "    \"payment_method\": \"Credit Card\",\n",
    "    \"purpose_of_expenditure\": \"Business Meal\",\n",
    "    \"amount\": \"36.99\",\n",
    "}\n",
    "aws_a2i.render_task_template(\n",
    "    task_template_content=path_task_template.read_text(),\n",
    "    input_data=input_data,\n",
    "    path_task_ui_html=path_task_ui_html,\n",
    "    preview=True,\n",
    ")"
   ],
   "metadata": {
    "collapsed": false,
    "pycharm": {
     "name": "#%%\n"
    }
   }
  },
  {
   "cell_type": "markdown",
   "source": [
    "The usage example is done. Let's clean up AWS resources to avoid cost."
   ],
   "metadata": {
    "collapsed": false,
    "pycharm": {
     "name": "#%% md\n"
    }
   }
  },
  {
   "cell_type": "code",
   "execution_count": 6,
   "outputs": [
    {
     "data": {
      "text/plain": "{'ResponseMetadata': {'RequestId': '1bce4df2-56f2-4e97-9881-bb1d26083d6d',\n  'HTTPStatusCode': 200,\n  'HTTPHeaders': {'x-amzn-requestid': '1bce4df2-56f2-4e97-9881-bb1d26083d6d',\n   'content-type': 'application/x-amz-json-1.1',\n   'content-length': '2',\n   'date': 'Sat, 18 Feb 2023 04:45:47 GMT'},\n  'RetryAttempts': 0}}"
     },
     "execution_count": 6,
     "metadata": {},
     "output_type": "execute_result"
    }
   ],
   "source": [
    "aws_a2i.delete_flow_definition(\n",
    "    bsm=bsm,\n",
    "    flow_definition_name=flow_definition_name,\n",
    ")"
   ],
   "metadata": {
    "collapsed": false,
    "pycharm": {
     "name": "#%%\n"
    }
   }
  },
  {
   "cell_type": "code",
   "execution_count": 7,
   "outputs": [
    {
     "data": {
      "text/plain": "{'ResponseMetadata': {'RequestId': '1cff9f1c-1656-46ba-b91f-ebab0fe17371',\n  'HTTPStatusCode': 200,\n  'HTTPHeaders': {'x-amzn-requestid': '1cff9f1c-1656-46ba-b91f-ebab0fe17371',\n   'content-type': 'application/x-amz-json-1.1',\n   'content-length': '2',\n   'date': 'Sat, 18 Feb 2023 04:45:57 GMT'},\n  'RetryAttempts': 0}}"
     },
     "execution_count": 7,
     "metadata": {},
     "output_type": "execute_result"
    }
   ],
   "source": [
    "aws_a2i.delete_human_task_ui(\n",
    "    bsm=bsm,\n",
    "    task_template_name=task_template_name,\n",
    ")"
   ],
   "metadata": {
    "collapsed": false,
    "pycharm": {
     "name": "#%%\n"
    }
   }
  },
  {
   "cell_type": "code",
   "execution_count": null,
   "outputs": [],
   "source": [],
   "metadata": {
    "collapsed": false,
    "pycharm": {
     "name": "#%%\n"
    }
   }
  }
 ],
 "metadata": {
  "kernelspec": {
   "display_name": "Python 3",
   "language": "python",
   "name": "python3"
  },
  "language_info": {
   "codemirror_mode": {
    "name": "ipython",
    "version": 2
   },
   "file_extension": ".py",
   "mimetype": "text/x-python",
   "name": "python",
   "nbconvert_exporter": "python",
   "pygments_lexer": "ipython2",
   "version": "2.7.6"
  }
 },
 "nbformat": 4,
 "nbformat_minor": 0
}