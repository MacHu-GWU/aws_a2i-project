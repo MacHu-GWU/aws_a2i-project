{
 "cells": [
  {
   "cell_type": "markdown",
   "source": [
    "# aws_a2i Usage Example"
   ],
   "metadata": {
    "collapsed": false,
    "pycharm": {
     "name": "#%% md\n"
    }
   }
  },
  {
   "cell_type": "code",
   "execution_count": 14,
   "outputs": [],
   "source": [
    "import os\n",
    "import uuid\n",
    "from pathlib import Path\n",
    "\n",
    "from rich import print as rprint\n",
    "from boto_session_manager import BotoSesManager\n",
    "\n",
    "import aws_a2i"
   ],
   "metadata": {
    "collapsed": false,
    "pycharm": {
     "name": "#%%\n"
    }
   }
  },
  {
   "cell_type": "markdown",
   "source": [
    "First, we define some constant values"
   ],
   "metadata": {
    "collapsed": false,
    "pycharm": {
     "name": "#%% md\n"
    }
   }
  },
  {
   "cell_type": "code",
   "execution_count": 5,
   "outputs": [],
   "source": [
    "# the AWS boto session manager\n",
    "# see https://pypi.org/project/boto-session-manager/ for more information\n",
    "bsm = BotoSesManager(profile_name=\"aws_data_lab_sanhe_us_east_2\")\n",
    "\n",
    "dir_here = Path(os.getcwd()).absolute()\n",
    "\n",
    "# where you store the task template (the .liquid file)\n",
    "path_task_template = dir_here.parent.joinpath(\"task-ui.liquid\")\n",
    "# where you store the rendered task ui HTML\n",
    "path_task_ui_html = dir_here.parent.joinpath(\"task-ui.html\")\n",
    "\n",
    "# the Ground Truth private team ARN\n",
    "private_team_arn = (\n",
    "    \"arn:aws:sagemaker:us-east-2:669508176277:workteam/private-crowd/my-labeling-team\"\n",
    ")\n",
    "# task UI template name\n",
    "task_template_name = \"aws-a2i-example\"\n",
    "# Human Review Workflow name\n",
    "flow_definition_name = \"aws-a2i-example\"\n",
    "# The IAM role for Human Review Workflow\n",
    "flow_execution_role_arn = \"arn:aws:iam::669508176277:role/a2i_poc-a2i_execution_role\"\n",
    "# Where you store HIL output data\n",
    "output_bucket = \"669508176277-us-east-2-a2i-poc\"\n",
    "output_key = \"poc/aws_a2i/hil-output/\"\n",
    "\n",
    "# resolve additional variables\n",
    "flow_definition_arn = aws_a2i.get_flow_definition_arn(\n",
    "    aws_account_id=bsm.aws_account_id,\n",
    "    aws_region=bsm.aws_region,\n",
    "    flow_definition_name=flow_definition_name,\n",
    ")"
   ],
   "metadata": {
    "collapsed": false,
    "pycharm": {
     "name": "#%%\n"
    }
   }
  },
  {
   "cell_type": "markdown",
   "source": [
    "Preview Task UI Template, in this example, we build a reimbursement request review system.\n",
    "\n",
    "Given a reimbursement request, approve or deny it.\n",
    "\n",
    "```\n",
    "{\n",
    "        \"date_of_expense\": \"2020-01-01\",\n",
    "        \"payment_method\": \"Credit Card\",\n",
    "        \"purpose_of_expenditure\": \"Business Meal\",\n",
    "        \"amount\": \"36.99\",\n",
    "}\n",
    "```"
   ],
   "metadata": {
    "collapsed": false,
    "pycharm": {
     "name": "#%% md\n"
    }
   }
  },
  {
   "cell_type": "code",
   "execution_count": 15,
   "outputs": [
    {
     "data": {
      "text/plain": "\u001B[1m<\u001B[0m\u001B[1;95mscript\u001B[0m\u001B[39m \u001B[0m\u001B[33msrc\u001B[0m\u001B[39m=\u001B[0m\u001B[32m\"https\u001B[0m\u001B[32m://assets.crowd.aws/crowd-html-elements.js\"\u001B[0m\u001B[39m><\u001B[0m\u001B[35m/\u001B[0m\u001B[95mscript\u001B[0m\u001B[39m>\u001B[0m\n\n\u001B[39m<crowd-form>\u001B[0m\n\u001B[39m  <full-instructions \u001B[0m\u001B[33mheader\u001B[0m\u001B[39m=\u001B[0m\u001B[32m\"Instructions\"\u001B[0m\u001B[39m>\u001B[0m\n\u001B[39m    <p>Check the following data points: Date of expense, Payment method, Purpose of expenditure, amount. <\u001B[0m\u001B[35m/\u001B[0m\u001B[95mp\u001B[0m\u001B[39m>\u001B[0m\n\u001B[39m  <\u001B[0m\u001B[35m/\u001B[0m\u001B[95mfull-instructions\u001B[0m\u001B[39m>\u001B[0m\n\n\u001B[39m  <short-instructions>\u001B[0m\n\u001B[39m    <p>Review this reimbursement request, approve or deny it.<\u001B[0m\u001B[35m/\u001B[0m\u001B[95mp\u001B[0m\u001B[39m>\u001B[0m\n\u001B[39m  <\u001B[0m\u001B[35m/\u001B[0m\u001B[95mshort-instructions\u001B[0m\u001B[39m>\u001B[0m\n\n\u001B[39m  <h2>Reimbursement request<\u001B[0m\u001B[35m/\u001B[0m\u001B[95mh2\u001B[0m\u001B[39m>\u001B[0m\n\u001B[39m  <ul>\u001B[0m\n\u001B[39m    <li>Date of expense = \u001B[0m\u001B[1;39m{\u001B[0m\u001B[1;39m{\u001B[0m\u001B[39m task.input.date_of_expense \u001B[0m\u001B[1;39m}\u001B[0m\u001B[1;39m}\u001B[0m\u001B[39m<\u001B[0m\u001B[35m/\u001B[0m\u001B[95mli\u001B[0m\u001B[39m>\u001B[0m\n\u001B[39m    <li>Payment method = \u001B[0m\u001B[1;39m{\u001B[0m\u001B[1;39m{\u001B[0m\u001B[39m task.input.payment_method \u001B[0m\u001B[1;39m}\u001B[0m\u001B[1;39m}\u001B[0m\u001B[39m<\u001B[0m\u001B[35m/\u001B[0m\u001B[95mli\u001B[0m\u001B[39m>\u001B[0m\n\u001B[39m    <li>Purpose of expenditure = \u001B[0m\u001B[1;39m{\u001B[0m\u001B[1;39m{\u001B[0m\u001B[39m task.input.purpose_of_expenditure \u001B[0m\u001B[1;39m}\u001B[0m\u001B[1;39m}\u001B[0m\u001B[39m<\u001B[0m\u001B[35m/\u001B[0m\u001B[95mli\u001B[0m\u001B[39m>\u001B[0m\n\u001B[39m    <li>Amount = $ \u001B[0m\u001B[1;39m{\u001B[0m\u001B[1;39m{\u001B[0m\u001B[39m task.input.amount \u001B[0m\u001B[1;39m}\u001B[0m\u001B[1;39m}\u001B[0m\u001B[39m<\u001B[0m\u001B[35m/\u001B[0m\u001B[95mli\u001B[0m\u001B[39m>\u001B[0m\n\u001B[39m  <\u001B[0m\u001B[35m/\u001B[0m\u001B[95mul\u001B[0m\u001B[39m>\u001B[0m\n\n\u001B[39m  <h2>Approve or deny it<\u001B[0m\u001B[35m/\u001B[0m\u001B[95mh2\u001B[0m\u001B[39m>\u001B[0m\n\n\u001B[39m  <input \u001B[0m\u001B[33mtype\u001B[0m\u001B[39m=\u001B[0m\u001B[32m\"radio\"\u001B[0m\u001B[39m \u001B[0m\u001B[33mid\u001B[0m\u001B[39m=\u001B[0m\u001B[32m\"approve\"\u001B[0m\u001B[39m \u001B[0m\u001B[33mname\u001B[0m\u001B[39m=\u001B[0m\u001B[32m\"decision\"\u001B[0m\u001B[39m \u001B[0m\u001B[33mvalue\u001B[0m\u001B[39m=\u001B[0m\u001B[32m\"approve\"\u001B[0m\u001B[39m required>\u001B[0m\n\u001B[39m  <label \u001B[0m\u001B[33mfor\u001B[0m\u001B[39m=\u001B[0m\u001B[32m\"approve\"\u001B[0m\u001B[39m>Approve<\u001B[0m\u001B[35m/\u001B[0m\u001B[95mlabel\u001B[0m\u001B[39m>\u001B[0m\n\n\u001B[39m  <input \u001B[0m\u001B[33mtype\u001B[0m\u001B[39m=\u001B[0m\u001B[32m\"radio\"\u001B[0m\u001B[39m \u001B[0m\u001B[33mid\u001B[0m\u001B[39m=\u001B[0m\u001B[32m\"deny\"\u001B[0m\u001B[39m \u001B[0m\u001B[33mname\u001B[0m\u001B[39m=\u001B[0m\u001B[32m\"decision\"\u001B[0m\u001B[39m \u001B[0m\u001B[33mvalue\u001B[0m\u001B[39m=\u001B[0m\u001B[32m\"deny\"\u001B[0m\u001B[39m required>\u001B[0m\n\u001B[39m  <label \u001B[0m\u001B[33mfor\u001B[0m\u001B[39m=\u001B[0m\u001B[32m\"deny\"\u001B[0m\u001B[39m>Deny<\u001B[0m\u001B[35m/\u001B[0m\u001B[95mlabel\u001B[0m\u001B[39m>\u001B[0m\n\n\u001B[39m  <br>\u001B[0m\n\n\u001B[39m<\u001B[0m\u001B[35m/\u001B[0m\u001B[95mcrowd-form\u001B[0m\u001B[1m>\u001B[0m\n\n",
      "text/html": "<pre style=\"white-space:pre;overflow-x:auto;line-height:normal;font-family:Menlo,'DejaVu Sans Mono',consolas,'Courier New',monospace\"><span style=\"font-weight: bold\">&lt;</span><span style=\"color: #ff00ff; text-decoration-color: #ff00ff; font-weight: bold\">script</span><span style=\"color: #000000; text-decoration-color: #000000\"> </span><span style=\"color: #808000; text-decoration-color: #808000\">src</span><span style=\"color: #000000; text-decoration-color: #000000\">=</span><span style=\"color: #008000; text-decoration-color: #008000\">\"https://assets.crowd.aws/crowd-html-elements.js\"</span><span style=\"color: #000000; text-decoration-color: #000000\">&gt;&lt;</span><span style=\"color: #800080; text-decoration-color: #800080\">/</span><span style=\"color: #ff00ff; text-decoration-color: #ff00ff\">script</span><span style=\"color: #000000; text-decoration-color: #000000\">&gt;</span>\n\n<span style=\"color: #000000; text-decoration-color: #000000\">&lt;crowd-form&gt;</span>\n<span style=\"color: #000000; text-decoration-color: #000000\">  &lt;full-instructions </span><span style=\"color: #808000; text-decoration-color: #808000\">header</span><span style=\"color: #000000; text-decoration-color: #000000\">=</span><span style=\"color: #008000; text-decoration-color: #008000\">\"Instructions\"</span><span style=\"color: #000000; text-decoration-color: #000000\">&gt;</span>\n<span style=\"color: #000000; text-decoration-color: #000000\">    &lt;p&gt;Check the following data points: Date of expense, Payment method, Purpose of expenditure, amount. &lt;</span><span style=\"color: #800080; text-decoration-color: #800080\">/</span><span style=\"color: #ff00ff; text-decoration-color: #ff00ff\">p</span><span style=\"color: #000000; text-decoration-color: #000000\">&gt;</span>\n<span style=\"color: #000000; text-decoration-color: #000000\">  &lt;</span><span style=\"color: #800080; text-decoration-color: #800080\">/</span><span style=\"color: #ff00ff; text-decoration-color: #ff00ff\">full-instructions</span><span style=\"color: #000000; text-decoration-color: #000000\">&gt;</span>\n\n<span style=\"color: #000000; text-decoration-color: #000000\">  &lt;short-instructions&gt;</span>\n<span style=\"color: #000000; text-decoration-color: #000000\">    &lt;p&gt;Review this reimbursement request, approve or deny it.&lt;</span><span style=\"color: #800080; text-decoration-color: #800080\">/</span><span style=\"color: #ff00ff; text-decoration-color: #ff00ff\">p</span><span style=\"color: #000000; text-decoration-color: #000000\">&gt;</span>\n<span style=\"color: #000000; text-decoration-color: #000000\">  &lt;</span><span style=\"color: #800080; text-decoration-color: #800080\">/</span><span style=\"color: #ff00ff; text-decoration-color: #ff00ff\">short-instructions</span><span style=\"color: #000000; text-decoration-color: #000000\">&gt;</span>\n\n<span style=\"color: #000000; text-decoration-color: #000000\">  &lt;h2&gt;Reimbursement request&lt;</span><span style=\"color: #800080; text-decoration-color: #800080\">/</span><span style=\"color: #ff00ff; text-decoration-color: #ff00ff\">h2</span><span style=\"color: #000000; text-decoration-color: #000000\">&gt;</span>\n<span style=\"color: #000000; text-decoration-color: #000000\">  &lt;ul&gt;</span>\n<span style=\"color: #000000; text-decoration-color: #000000\">    &lt;li&gt;Date of expense = </span><span style=\"color: #000000; text-decoration-color: #000000; font-weight: bold\">{{</span><span style=\"color: #000000; text-decoration-color: #000000\"> task.input.date_of_expense </span><span style=\"color: #000000; text-decoration-color: #000000; font-weight: bold\">}}</span><span style=\"color: #000000; text-decoration-color: #000000\">&lt;</span><span style=\"color: #800080; text-decoration-color: #800080\">/</span><span style=\"color: #ff00ff; text-decoration-color: #ff00ff\">li</span><span style=\"color: #000000; text-decoration-color: #000000\">&gt;</span>\n<span style=\"color: #000000; text-decoration-color: #000000\">    &lt;li&gt;Payment method = </span><span style=\"color: #000000; text-decoration-color: #000000; font-weight: bold\">{{</span><span style=\"color: #000000; text-decoration-color: #000000\"> task.input.payment_method </span><span style=\"color: #000000; text-decoration-color: #000000; font-weight: bold\">}}</span><span style=\"color: #000000; text-decoration-color: #000000\">&lt;</span><span style=\"color: #800080; text-decoration-color: #800080\">/</span><span style=\"color: #ff00ff; text-decoration-color: #ff00ff\">li</span><span style=\"color: #000000; text-decoration-color: #000000\">&gt;</span>\n<span style=\"color: #000000; text-decoration-color: #000000\">    &lt;li&gt;Purpose of expenditure = </span><span style=\"color: #000000; text-decoration-color: #000000; font-weight: bold\">{{</span><span style=\"color: #000000; text-decoration-color: #000000\"> task.input.purpose_of_expenditure </span><span style=\"color: #000000; text-decoration-color: #000000; font-weight: bold\">}}</span><span style=\"color: #000000; text-decoration-color: #000000\">&lt;</span><span style=\"color: #800080; text-decoration-color: #800080\">/</span><span style=\"color: #ff00ff; text-decoration-color: #ff00ff\">li</span><span style=\"color: #000000; text-decoration-color: #000000\">&gt;</span>\n<span style=\"color: #000000; text-decoration-color: #000000\">    &lt;li&gt;Amount = $ </span><span style=\"color: #000000; text-decoration-color: #000000; font-weight: bold\">{{</span><span style=\"color: #000000; text-decoration-color: #000000\"> task.input.amount </span><span style=\"color: #000000; text-decoration-color: #000000; font-weight: bold\">}}</span><span style=\"color: #000000; text-decoration-color: #000000\">&lt;</span><span style=\"color: #800080; text-decoration-color: #800080\">/</span><span style=\"color: #ff00ff; text-decoration-color: #ff00ff\">li</span><span style=\"color: #000000; text-decoration-color: #000000\">&gt;</span>\n<span style=\"color: #000000; text-decoration-color: #000000\">  &lt;</span><span style=\"color: #800080; text-decoration-color: #800080\">/</span><span style=\"color: #ff00ff; text-decoration-color: #ff00ff\">ul</span><span style=\"color: #000000; text-decoration-color: #000000\">&gt;</span>\n\n<span style=\"color: #000000; text-decoration-color: #000000\">  &lt;h2&gt;Approve or deny it&lt;</span><span style=\"color: #800080; text-decoration-color: #800080\">/</span><span style=\"color: #ff00ff; text-decoration-color: #ff00ff\">h2</span><span style=\"color: #000000; text-decoration-color: #000000\">&gt;</span>\n\n<span style=\"color: #000000; text-decoration-color: #000000\">  &lt;input </span><span style=\"color: #808000; text-decoration-color: #808000\">type</span><span style=\"color: #000000; text-decoration-color: #000000\">=</span><span style=\"color: #008000; text-decoration-color: #008000\">\"radio\"</span><span style=\"color: #000000; text-decoration-color: #000000\"> </span><span style=\"color: #808000; text-decoration-color: #808000\">id</span><span style=\"color: #000000; text-decoration-color: #000000\">=</span><span style=\"color: #008000; text-decoration-color: #008000\">\"approve\"</span><span style=\"color: #000000; text-decoration-color: #000000\"> </span><span style=\"color: #808000; text-decoration-color: #808000\">name</span><span style=\"color: #000000; text-decoration-color: #000000\">=</span><span style=\"color: #008000; text-decoration-color: #008000\">\"decision\"</span><span style=\"color: #000000; text-decoration-color: #000000\"> </span><span style=\"color: #808000; text-decoration-color: #808000\">value</span><span style=\"color: #000000; text-decoration-color: #000000\">=</span><span style=\"color: #008000; text-decoration-color: #008000\">\"approve\"</span><span style=\"color: #000000; text-decoration-color: #000000\"> required&gt;</span>\n<span style=\"color: #000000; text-decoration-color: #000000\">  &lt;label </span><span style=\"color: #808000; text-decoration-color: #808000\">for</span><span style=\"color: #000000; text-decoration-color: #000000\">=</span><span style=\"color: #008000; text-decoration-color: #008000\">\"approve\"</span><span style=\"color: #000000; text-decoration-color: #000000\">&gt;Approve&lt;</span><span style=\"color: #800080; text-decoration-color: #800080\">/</span><span style=\"color: #ff00ff; text-decoration-color: #ff00ff\">label</span><span style=\"color: #000000; text-decoration-color: #000000\">&gt;</span>\n\n<span style=\"color: #000000; text-decoration-color: #000000\">  &lt;input </span><span style=\"color: #808000; text-decoration-color: #808000\">type</span><span style=\"color: #000000; text-decoration-color: #000000\">=</span><span style=\"color: #008000; text-decoration-color: #008000\">\"radio\"</span><span style=\"color: #000000; text-decoration-color: #000000\"> </span><span style=\"color: #808000; text-decoration-color: #808000\">id</span><span style=\"color: #000000; text-decoration-color: #000000\">=</span><span style=\"color: #008000; text-decoration-color: #008000\">\"deny\"</span><span style=\"color: #000000; text-decoration-color: #000000\"> </span><span style=\"color: #808000; text-decoration-color: #808000\">name</span><span style=\"color: #000000; text-decoration-color: #000000\">=</span><span style=\"color: #008000; text-decoration-color: #008000\">\"decision\"</span><span style=\"color: #000000; text-decoration-color: #000000\"> </span><span style=\"color: #808000; text-decoration-color: #808000\">value</span><span style=\"color: #000000; text-decoration-color: #000000\">=</span><span style=\"color: #008000; text-decoration-color: #008000\">\"deny\"</span><span style=\"color: #000000; text-decoration-color: #000000\"> required&gt;</span>\n<span style=\"color: #000000; text-decoration-color: #000000\">  &lt;label </span><span style=\"color: #808000; text-decoration-color: #808000\">for</span><span style=\"color: #000000; text-decoration-color: #000000\">=</span><span style=\"color: #008000; text-decoration-color: #008000\">\"deny\"</span><span style=\"color: #000000; text-decoration-color: #000000\">&gt;Deny&lt;</span><span style=\"color: #800080; text-decoration-color: #800080\">/</span><span style=\"color: #ff00ff; text-decoration-color: #ff00ff\">label</span><span style=\"color: #000000; text-decoration-color: #000000\">&gt;</span>\n\n<span style=\"color: #000000; text-decoration-color: #000000\">  &lt;br&gt;</span>\n\n<span style=\"color: #000000; text-decoration-color: #000000\">&lt;</span><span style=\"color: #800080; text-decoration-color: #800080\">/</span><span style=\"color: #ff00ff; text-decoration-color: #ff00ff\">crowd-form</span><span style=\"font-weight: bold\">&gt;</span>\n\n</pre>\n"
     },
     "metadata": {},
     "output_type": "display_data"
    }
   ],
   "source": [
    "rprint(path_task_template.read_text())"
   ],
   "metadata": {
    "collapsed": false,
    "pycharm": {
     "name": "#%%\n"
    }
   }
  },
  {
   "cell_type": "markdown",
   "source": [
    "Deploy Task UI Template"
   ],
   "metadata": {
    "collapsed": false,
    "pycharm": {
     "name": "#%% md\n"
    }
   }
  },
  {
   "cell_type": "code",
   "execution_count": 7,
   "outputs": [
    {
     "name": "stdout",
     "output_type": "stream",
     "text": [
      "🚀 Deploy Human in Loop task template\n",
      "  preview at https://console.aws.amazon.com/a2i/home?region=us-east-2#/worker-task-templates/aws-a2i-example\n",
      "  ✅ Successfully deployed task ui template 'aws-a2i-example'\n"
     ]
    }
   ],
   "source": [
    "aws_a2i.deploy_hil_task_template(\n",
    "    bsm=bsm,\n",
    "    task_template_name=task_template_name,\n",
    "    task_template_content=path_task_template.read_text(),\n",
    ")"
   ],
   "metadata": {
    "collapsed": false,
    "pycharm": {
     "name": "#%%\n"
    }
   }
  },
  {
   "cell_type": "markdown",
   "source": [
    "Then we can deploy the Human Review Workflow definition"
   ],
   "metadata": {
    "collapsed": false,
    "pycharm": {
     "name": "#%% md\n"
    }
   }
  },
  {
   "cell_type": "code",
   "execution_count": 11,
   "outputs": [
    {
     "name": "stdout",
     "output_type": "stream",
     "text": [
      "🚀 Deploy Human review workflow definition, it may takes 30 sec ~ 1 minute\n",
      "  preview at https://console.aws.amazon.com/a2i/home?region=us-east-2#/human-review-workflows/aws-a2i-example\n",
      "Create Human review workflow definition ...\n",
      "  on 1 th attempt, elapsed 1 seconds, remain 29 seconds ...\n",
      "  on 2 th attempt, elapsed 2 seconds, remain 28 seconds ...\n",
      "  ✅ Successfully deployed flow definition 'aws-a2i-example'\n"
     ]
    }
   ],
   "source": [
    "aws_a2i.deploy_flow_definition(\n",
    "    bsm=bsm,\n",
    "    flow_definition_name=flow_definition_name,\n",
    "    flow_execution_role_arn=flow_execution_role_arn,\n",
    "    labeling_team_arn=private_team_arn,\n",
    "    output_bucket=output_bucket,\n",
    "    output_key=output_key,\n",
    "    task_template_name=task_template_name,\n",
    "    task_description=\"Review reimbursement request\",\n",
    "    task_count=1,\n",
    ")"
   ],
   "metadata": {
    "collapsed": false,
    "pycharm": {
     "name": "#%%\n"
    }
   }
  },
  {
   "cell_type": "markdown",
   "source": [
    "Now the human review workflow is ready to use, let's start some human loop task and review some reimbursement request!"
   ],
   "metadata": {
    "collapsed": false,
    "pycharm": {
     "name": "#%% md\n"
    }
   }
  },
  {
   "cell_type": "code",
   "execution_count": 12,
   "outputs": [
    {
     "name": "stdout",
     "output_type": "stream",
     "text": [
      "Login to the workspace: https://3zqu42gydr.labeling.us-east-2.sagemaker.aws\n",
      "⏯ Start a Human Loop Task 'e3157e63-5a69-4c9f-a897-430f444a339b'\n",
      "  You can preview HIL status at https://us-east-2.console.aws.amazon.com/a2i/home?region=us-east-2#/human-review-workflows/aws-a2i-example/human-loops/e3157e63-5a69-4c9f-a897-430f444a339b\n"
     ]
    }
   ],
   "source": [
    "workspace_signin_url = aws_a2i.get_workspace_signin_url(\n",
    "    bsm=bsm,\n",
    "    work_team_name=aws_a2i.parse_team_name_from_private_team_arn(arn=private_team_arn),\n",
    ")\n",
    "print(f\"Login to the workspace: {workspace_signin_url}\")\n",
    "\n",
    "hil_arn = aws_a2i.start_human_loop(\n",
    "    bsm=bsm,\n",
    "    human_loop_name=str(uuid.uuid4()),\n",
    "    flow_definition_arn=aws_a2i.get_flow_definition_arn(\n",
    "        aws_account_id=bsm.aws_account_id,\n",
    "        aws_region=bsm.aws_region,\n",
    "        flow_definition_name=flow_definition_name,\n",
    "    ),\n",
    "    input_data={\n",
    "        \"date_of_expense\": \"2020-01-01\",\n",
    "        \"payment_method\": \"Credit Card\",\n",
    "        \"purpose_of_expenditure\": \"Business Meal\",\n",
    "        \"amount\": \"36.99\",\n",
    "    },\n",
    ")"
   ],
   "metadata": {
    "collapsed": false,
    "pycharm": {
     "name": "#%%\n"
    }
   }
  },
  {
   "cell_type": "markdown",
   "source": [
    "You can list human loops, and it returns user friendly ``HumanLoop`` objects."
   ],
   "metadata": {
    "collapsed": false,
    "pycharm": {
     "name": "#%% md\n"
    }
   }
  },
  {
   "cell_type": "code",
   "execution_count": 18,
   "outputs": [
    {
     "data": {
      "text/plain": "\u001B[1;35mHumanLoop\u001B[0m\u001B[1m(\u001B[0m\n    \u001B[33mcreation_time\u001B[0m=\u001B[1;35mdatetime\u001B[0m\u001B[1;35m.datetime\u001B[0m\u001B[1m(\u001B[0m\u001B[1;36m2023\u001B[0m, \u001B[1;36m2\u001B[0m, \u001B[1;36m20\u001B[0m, \u001B[1;36m15\u001B[0m, \u001B[1;36m25\u001B[0m, \u001B[1;36m7\u001B[0m, \u001B[1;36m410000\u001B[0m, \u001B[33mtzinfo\u001B[0m=\u001B[1;35mtzutc\u001B[0m\u001B[1m(\u001B[0m\u001B[1m)\u001B[0m\u001B[1m)\u001B[0m,\n    \u001B[33mfailure_reason\u001B[0m=\u001B[3;35mNone\u001B[0m,\n    \u001B[33mfailure_code\u001B[0m=\u001B[3;35mNone\u001B[0m,\n    \u001B[33mhuman_loop_status\u001B[0m=\u001B[32m'InProgress'\u001B[0m,\n    \u001B[33mhuman_loop_name\u001B[0m=\u001B[32m'e3157e63-5a69-4c9f-a897-430f444a339b'\u001B[0m,\n    \u001B[33mhuman_loop_arn\u001B[0m=\u001B[3;35mNone\u001B[0m,\n    \u001B[33mflow_definition_arn\u001B[0m=\u001B[32m'arn:aws:sagemaker:us-east-2:669508176277:flow-definition/aws-a2i-example'\u001B[0m,\n    \u001B[33mhuman_loop_output_s3uri\u001B[0m=\u001B[3;35mNone\u001B[0m\n\u001B[1m)\u001B[0m\n",
      "text/html": "<pre style=\"white-space:pre;overflow-x:auto;line-height:normal;font-family:Menlo,'DejaVu Sans Mono',consolas,'Courier New',monospace\"><span style=\"color: #800080; text-decoration-color: #800080; font-weight: bold\">HumanLoop</span><span style=\"font-weight: bold\">(</span>\n    <span style=\"color: #808000; text-decoration-color: #808000\">creation_time</span>=<span style=\"color: #800080; text-decoration-color: #800080; font-weight: bold\">datetime</span><span style=\"color: #800080; text-decoration-color: #800080; font-weight: bold\">.datetime</span><span style=\"font-weight: bold\">(</span><span style=\"color: #008080; text-decoration-color: #008080; font-weight: bold\">2023</span>, <span style=\"color: #008080; text-decoration-color: #008080; font-weight: bold\">2</span>, <span style=\"color: #008080; text-decoration-color: #008080; font-weight: bold\">20</span>, <span style=\"color: #008080; text-decoration-color: #008080; font-weight: bold\">15</span>, <span style=\"color: #008080; text-decoration-color: #008080; font-weight: bold\">25</span>, <span style=\"color: #008080; text-decoration-color: #008080; font-weight: bold\">7</span>, <span style=\"color: #008080; text-decoration-color: #008080; font-weight: bold\">410000</span>, <span style=\"color: #808000; text-decoration-color: #808000\">tzinfo</span>=<span style=\"color: #800080; text-decoration-color: #800080; font-weight: bold\">tzutc</span><span style=\"font-weight: bold\">())</span>,\n    <span style=\"color: #808000; text-decoration-color: #808000\">failure_reason</span>=<span style=\"color: #800080; text-decoration-color: #800080; font-style: italic\">None</span>,\n    <span style=\"color: #808000; text-decoration-color: #808000\">failure_code</span>=<span style=\"color: #800080; text-decoration-color: #800080; font-style: italic\">None</span>,\n    <span style=\"color: #808000; text-decoration-color: #808000\">human_loop_status</span>=<span style=\"color: #008000; text-decoration-color: #008000\">'InProgress'</span>,\n    <span style=\"color: #808000; text-decoration-color: #808000\">human_loop_name</span>=<span style=\"color: #008000; text-decoration-color: #008000\">'e3157e63-5a69-4c9f-a897-430f444a339b'</span>,\n    <span style=\"color: #808000; text-decoration-color: #808000\">human_loop_arn</span>=<span style=\"color: #800080; text-decoration-color: #800080; font-style: italic\">None</span>,\n    <span style=\"color: #808000; text-decoration-color: #808000\">flow_definition_arn</span>=<span style=\"color: #008000; text-decoration-color: #008000\">'arn:aws:sagemaker:us-east-2:669508176277:flow-definition/aws-a2i-example'</span>,\n    <span style=\"color: #808000; text-decoration-color: #808000\">human_loop_output_s3uri</span>=<span style=\"color: #800080; text-decoration-color: #800080; font-style: italic\">None</span>\n<span style=\"font-weight: bold\">)</span>\n</pre>\n"
     },
     "metadata": {},
     "output_type": "display_data"
    },
    {
     "data": {
      "text/plain": "\u001B[1;35mHumanLoop\u001B[0m\u001B[1m(\u001B[0m\n    \u001B[33mcreation_time\u001B[0m=\u001B[1;35mdatetime\u001B[0m\u001B[1;35m.datetime\u001B[0m\u001B[1m(\u001B[0m\u001B[1;36m2023\u001B[0m, \u001B[1;36m2\u001B[0m, \u001B[1;36m20\u001B[0m, \u001B[1;36m15\u001B[0m, \u001B[1;36m25\u001B[0m, \u001B[1;36m7\u001B[0m, \u001B[1;36m410000\u001B[0m, \u001B[33mtzinfo\u001B[0m=\u001B[1;35mtzutc\u001B[0m\u001B[1m(\u001B[0m\u001B[1m)\u001B[0m\u001B[1m)\u001B[0m,\n    \u001B[33mfailure_reason\u001B[0m=\u001B[3;35mNone\u001B[0m,\n    \u001B[33mfailure_code\u001B[0m=\u001B[3;35mNone\u001B[0m,\n    \u001B[33mhuman_loop_status\u001B[0m=\u001B[32m'InProgress'\u001B[0m,\n    \u001B[33mhuman_loop_name\u001B[0m=\u001B[32m'e3157e63-5a69-4c9f-a897-430f444a339b'\u001B[0m,\n    \u001B[33mhuman_loop_arn\u001B[0m=\u001B[32m'arn:aws:sagemaker:us-east-2:669508176277:human-loop/e3157e63-5a69-4c9f-a897-430f444a339b'\u001B[0m,\n    \u001B[33mflow_definition_arn\u001B[0m=\u001B[32m'arn:aws:sagemaker:us-east-2:669508176277:flow-definition/aws-a2i-example'\u001B[0m,\n    \u001B[33mhuman_loop_output_s3uri\u001B[0m=\u001B[32m's3://669508176277-us-east-2-a2i-poc/poc/aws_a2i/hil-output/aws-a2i-example/2023/02/20/\u001B[0m\n\u001B[32m15/25/07/e3157e63-5a69-4c9f-a897-430f444a339b/output.json'\u001B[0m\n\u001B[1m)\u001B[0m\n",
      "text/html": "<pre style=\"white-space:pre;overflow-x:auto;line-height:normal;font-family:Menlo,'DejaVu Sans Mono',consolas,'Courier New',monospace\"><span style=\"color: #800080; text-decoration-color: #800080; font-weight: bold\">HumanLoop</span><span style=\"font-weight: bold\">(</span>\n    <span style=\"color: #808000; text-decoration-color: #808000\">creation_time</span>=<span style=\"color: #800080; text-decoration-color: #800080; font-weight: bold\">datetime</span><span style=\"color: #800080; text-decoration-color: #800080; font-weight: bold\">.datetime</span><span style=\"font-weight: bold\">(</span><span style=\"color: #008080; text-decoration-color: #008080; font-weight: bold\">2023</span>, <span style=\"color: #008080; text-decoration-color: #008080; font-weight: bold\">2</span>, <span style=\"color: #008080; text-decoration-color: #008080; font-weight: bold\">20</span>, <span style=\"color: #008080; text-decoration-color: #008080; font-weight: bold\">15</span>, <span style=\"color: #008080; text-decoration-color: #008080; font-weight: bold\">25</span>, <span style=\"color: #008080; text-decoration-color: #008080; font-weight: bold\">7</span>, <span style=\"color: #008080; text-decoration-color: #008080; font-weight: bold\">410000</span>, <span style=\"color: #808000; text-decoration-color: #808000\">tzinfo</span>=<span style=\"color: #800080; text-decoration-color: #800080; font-weight: bold\">tzutc</span><span style=\"font-weight: bold\">())</span>,\n    <span style=\"color: #808000; text-decoration-color: #808000\">failure_reason</span>=<span style=\"color: #800080; text-decoration-color: #800080; font-style: italic\">None</span>,\n    <span style=\"color: #808000; text-decoration-color: #808000\">failure_code</span>=<span style=\"color: #800080; text-decoration-color: #800080; font-style: italic\">None</span>,\n    <span style=\"color: #808000; text-decoration-color: #808000\">human_loop_status</span>=<span style=\"color: #008000; text-decoration-color: #008000\">'InProgress'</span>,\n    <span style=\"color: #808000; text-decoration-color: #808000\">human_loop_name</span>=<span style=\"color: #008000; text-decoration-color: #008000\">'e3157e63-5a69-4c9f-a897-430f444a339b'</span>,\n    <span style=\"color: #808000; text-decoration-color: #808000\">human_loop_arn</span>=<span style=\"color: #008000; text-decoration-color: #008000\">'arn:aws:sagemaker:us-east-2:669508176277:human-loop/e3157e63-5a69-4c9f-a897-430f444a339b'</span>,\n    <span style=\"color: #808000; text-decoration-color: #808000\">flow_definition_arn</span>=<span style=\"color: #008000; text-decoration-color: #008000\">'arn:aws:sagemaker:us-east-2:669508176277:flow-definition/aws-a2i-example'</span>,\n    <span style=\"color: #808000; text-decoration-color: #808000\">human_loop_output_s3uri</span>=<span style=\"color: #008000; text-decoration-color: #008000\">'s3://669508176277-us-east-2-a2i-poc/poc/aws_a2i/hil-output/aws-a2i-example/2023/02/20/</span>\n<span style=\"color: #008000; text-decoration-color: #008000\">15/25/07/e3157e63-5a69-4c9f-a897-430f444a339b/output.json'</span>\n<span style=\"font-weight: bold\">)</span>\n</pre>\n"
     },
     "metadata": {},
     "output_type": "display_data"
    }
   ],
   "source": [
    "for human_loop in aws_a2i.list_human_loops(\n",
    "    bsm=bsm,\n",
    "    flow_definition_arn=flow_definition_arn,\n",
    "):\n",
    "    rprint(human_loop)\n",
    "    rprint(human_loop.get_details(bsm=bsm))"
   ],
   "metadata": {
    "collapsed": false,
    "pycharm": {
     "name": "#%%\n"
    }
   }
  },
  {
   "cell_type": "markdown",
   "source": [
    "You can actually filter the human loops using their status (or any other attributes)"
   ],
   "metadata": {
    "collapsed": false,
    "pycharm": {
     "name": "#%% md\n"
    }
   }
  },
  {
   "cell_type": "code",
   "execution_count": null,
   "outputs": [],
   "source": [
    "for human_loop in aws_a2i.list_human_loops(\n",
    "    bsm=bsm,\n",
    "    flow_definition_arn=flow_definition_arn,\n",
    ").filter(\n",
    "    lambda human_loop: human_loop.human_loop_status == aws_a2i.HumanLoopStatusEnum.InProgress.value\n",
    "):\n",
    "    pass\n"
   ],
   "metadata": {
    "collapsed": false,
    "pycharm": {
     "name": "#%%\n"
    }
   }
  },
  {
   "cell_type": "markdown",
   "source": [
    "You can use the ``aws_a2i.render_task_template`` function to preview the task UI in your browser without starting a real human in the loop and without deploying anything. It is purely Python and purely local.\n",
    "\n",
    "![](./task-ui.png)"
   ],
   "metadata": {
    "collapsed": false,
    "pycharm": {
     "name": "#%% md\n"
    }
   }
  },
  {
   "cell_type": "code",
   "execution_count": 14,
   "outputs": [],
   "source": [
    "input_data = {\n",
    "    \"date_of_expense\": \"2020-01-01\",\n",
    "    \"payment_method\": \"Credit Card\",\n",
    "    \"purpose_of_expenditure\": \"Business Meal\",\n",
    "    \"amount\": \"36.99\",\n",
    "}\n",
    "aws_a2i.render_task_template(\n",
    "    task_template_content=path_task_template.read_text(),\n",
    "    input_data=input_data,\n",
    "    path_task_ui_html=path_task_ui_html,\n",
    "    preview=True,\n",
    ")"
   ],
   "metadata": {
    "collapsed": false,
    "pycharm": {
     "name": "#%%\n"
    }
   }
  },
  {
   "cell_type": "markdown",
   "source": [
    "The usage example is done. Let's clean up AWS resources to avoid cost."
   ],
   "metadata": {
    "collapsed": false,
    "pycharm": {
     "name": "#%% md\n"
    }
   }
  },
  {
   "cell_type": "code",
   "execution_count": 3,
   "outputs": [
    {
     "data": {
      "text/plain": "{'ResponseMetadata': {'RequestId': '50905800-0799-4ae6-9f12-12f277a72d14',\n  'HTTPStatusCode': 200,\n  'HTTPHeaders': {'x-amzn-requestid': '50905800-0799-4ae6-9f12-12f277a72d14',\n   'content-type': 'application/x-amz-json-1.1',\n   'content-length': '2',\n   'date': 'Mon, 20 Feb 2023 15:24:18 GMT'},\n  'RetryAttempts': 0}}"
     },
     "execution_count": 3,
     "metadata": {},
     "output_type": "execute_result"
    }
   ],
   "source": [
    "aws_a2i.delete_flow_definition(\n",
    "    bsm=bsm,\n",
    "    flow_definition_name=flow_definition_name,\n",
    ")"
   ],
   "metadata": {
    "collapsed": false,
    "pycharm": {
     "name": "#%%\n"
    }
   }
  },
  {
   "cell_type": "code",
   "execution_count": 4,
   "outputs": [
    {
     "data": {
      "text/plain": "{'ResponseMetadata': {'RequestId': 'b881a52b-b8f5-4476-bf12-7dae36a260ee',\n  'HTTPStatusCode': 200,\n  'HTTPHeaders': {'x-amzn-requestid': 'b881a52b-b8f5-4476-bf12-7dae36a260ee',\n   'content-type': 'application/x-amz-json-1.1',\n   'content-length': '2',\n   'date': 'Mon, 20 Feb 2023 15:24:19 GMT'},\n  'RetryAttempts': 0}}"
     },
     "execution_count": 4,
     "metadata": {},
     "output_type": "execute_result"
    }
   ],
   "source": [
    "aws_a2i.delete_human_task_ui(\n",
    "    bsm=bsm,\n",
    "    task_template_name=task_template_name,\n",
    ")"
   ],
   "metadata": {
    "collapsed": false,
    "pycharm": {
     "name": "#%%\n"
    }
   }
  },
  {
   "cell_type": "code",
   "execution_count": null,
   "outputs": [],
   "source": [],
   "metadata": {
    "collapsed": false,
    "pycharm": {
     "name": "#%%\n"
    }
   }
  }
 ],
 "metadata": {
  "kernelspec": {
   "display_name": "Python 3",
   "language": "python",
   "name": "python3"
  },
  "language_info": {
   "codemirror_mode": {
    "name": "ipython",
    "version": 2
   },
   "file_extension": ".py",
   "mimetype": "text/x-python",
   "name": "python",
   "nbconvert_exporter": "python",
   "pygments_lexer": "ipython2",
   "version": "2.7.6"
  }
 },
 "nbformat": 4,
 "nbformat_minor": 0
}