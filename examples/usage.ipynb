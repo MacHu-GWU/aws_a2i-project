{
 "cells": [
  {
   "cell_type": "markdown",
   "metadata": {
    "collapsed": false,
    "jupyter": {
     "outputs_hidden": false
    },
    "pycharm": {
     "name": "#%% md\n"
    }
   },
   "source": [
    "# aws_a2i Usage Example"
   ]
  },
  {
   "cell_type": "code",
   "execution_count": 1,
   "metadata": {
    "collapsed": false,
    "jupyter": {
     "outputs_hidden": false
    },
    "pycharm": {
     "name": "#%%\n"
    }
   },
   "outputs": [],
   "source": [
    "import os\n",
    "from pathlib import Path\n",
    "\n",
    "from rich import print as rprint\n",
    "from boto_session_manager import BotoSesManager\n",
    "\n",
    "import aws_a2i.api as aws_a2i"
   ]
  },
  {
   "cell_type": "markdown",
   "metadata": {
    "collapsed": false,
    "jupyter": {
     "outputs_hidden": false
    },
    "pycharm": {
     "name": "#%% md\n"
    }
   },
   "source": [
    "First, we define some constant values"
   ]
  },
  {
   "cell_type": "code",
   "execution_count": 2,
   "metadata": {
    "collapsed": false,
    "jupyter": {
     "outputs_hidden": false
    },
    "pycharm": {
     "name": "#%%\n"
    }
   },
   "outputs": [],
   "source": [
    "# the AWS boto session manager\n",
    "# see https://pypi.org/project/boto-session-manager/ for more information\n",
    "bsm = BotoSesManager(profile_name=\"awshsh_app_dev_us_east_1\")\n",
    "\n",
    "dir_here = Path(os.getcwd()).absolute()\n",
    "\n",
    "# where you store the task template (the .liquid file)\n",
    "path_task_template = dir_here.parent.joinpath(\"task-ui.liquid\")\n",
    "# where you store the rendered task ui HTML\n",
    "path_task_ui_html = dir_here.parent.joinpath(\"task-ui.html\")\n",
    "\n",
    "path_task_template = dir_here.parent.joinpath(\"task-ui.liquid\")\n",
    "\n",
    "play = aws_a2i.Play(\n",
    "    aws_account_id=bsm.aws_account_id,\n",
    "    aws_region=bsm.aws_region,\n",
    "    # task UI template name\n",
    "    task_template_name=\"aws-a2i-example\",\n",
    "    task_template_content=path_task_template.read_text(),\n",
    "    # Human Review Workflow name\n",
    "    flow_definition_name=\"aws-a2i-example\",\n",
    "    # The IAM role for Human Review Workflow, you have to create it yourself\n",
    "    flow_execution_role_arn=f\"arn:aws:iam::{bsm.aws_account_id}:role/all-services-admin-role\",\n",
    "    # Where you store HIL output data\n",
    "    output_bucket=f\"{bsm.aws_account_id}-{bsm.aws_region}-data\",\n",
    "    output_key=\"projects/aws_a2i-project/hil-output/\",\n",
    "    # the Ground Truth private team ARN\n",
    "    private_team_arn=f\"arn:aws:sagemaker:{bsm.aws_region}:{bsm.aws_account_id}:workteam/private-crowd/my-private-team\",\n",
    ")"
   ]
  },
  {
   "cell_type": "markdown",
   "metadata": {
    "collapsed": false,
    "jupyter": {
     "outputs_hidden": false
    },
    "pycharm": {
     "name": "#%% md\n"
    }
   },
   "source": [
    "Preview Task UI Template, in this example, we build a reimbursement request review system.\n",
    "\n",
    "Given a reimbursement request, approve or deny it.\n",
    "\n",
    "```\n",
    "{\n",
    "        \"date_of_expense\": \"2020-01-01\",\n",
    "        \"payment_method\": \"Credit Card\",\n",
    "        \"purpose_of_expenditure\": \"Business Meal\",\n",
    "        \"amount\": \"36.99\",\n",
    "}\n",
    "```"
   ]
  },
  {
   "cell_type": "code",
   "execution_count": 3,
   "metadata": {
    "collapsed": false,
    "jupyter": {
     "outputs_hidden": false
    },
    "pycharm": {
     "name": "#%%\n"
    }
   },
   "outputs": [
    {
     "data": {
      "text/html": [
       "<pre style=\"white-space:pre;overflow-x:auto;line-height:normal;font-family:Menlo,'DejaVu Sans Mono',consolas,'Courier New',monospace\"><span style=\"font-weight: bold\">&lt;</span><span style=\"color: #ff00ff; text-decoration-color: #ff00ff; font-weight: bold\">script</span><span style=\"color: #000000; text-decoration-color: #000000\"> </span><span style=\"color: #808000; text-decoration-color: #808000\">src</span><span style=\"color: #000000; text-decoration-color: #000000\">=</span><span style=\"color: #008000; text-decoration-color: #008000\">\"https://assets.crowd.aws/crowd-html-elements.js\"</span><span style=\"color: #000000; text-decoration-color: #000000\">&gt;&lt;</span><span style=\"color: #800080; text-decoration-color: #800080\">/</span><span style=\"color: #ff00ff; text-decoration-color: #ff00ff\">script</span><span style=\"color: #000000; text-decoration-color: #000000\">&gt;</span>\n",
       "\n",
       "<span style=\"color: #000000; text-decoration-color: #000000\">&lt;crowd-form&gt;</span>\n",
       "<span style=\"color: #000000; text-decoration-color: #000000\">  &lt;full-instructions </span><span style=\"color: #808000; text-decoration-color: #808000\">header</span><span style=\"color: #000000; text-decoration-color: #000000\">=</span><span style=\"color: #008000; text-decoration-color: #008000\">\"Instructions\"</span><span style=\"color: #000000; text-decoration-color: #000000\">&gt;</span>\n",
       "<span style=\"color: #000000; text-decoration-color: #000000\">    &lt;p&gt;Check the following data points: Date of expense, Payment method, Purpose of expenditure, amount. &lt;</span><span style=\"color: #800080; text-decoration-color: #800080\">/</span><span style=\"color: #ff00ff; text-decoration-color: #ff00ff\">p</span><span style=\"color: #000000; text-decoration-color: #000000\">&gt;</span>\n",
       "<span style=\"color: #000000; text-decoration-color: #000000\">  &lt;</span><span style=\"color: #800080; text-decoration-color: #800080\">/</span><span style=\"color: #ff00ff; text-decoration-color: #ff00ff\">full-instructions</span><span style=\"color: #000000; text-decoration-color: #000000\">&gt;</span>\n",
       "\n",
       "<span style=\"color: #000000; text-decoration-color: #000000\">  &lt;short-instructions&gt;</span>\n",
       "<span style=\"color: #000000; text-decoration-color: #000000\">    &lt;p&gt;Review this reimbursement request, approve or deny it.&lt;</span><span style=\"color: #800080; text-decoration-color: #800080\">/</span><span style=\"color: #ff00ff; text-decoration-color: #ff00ff\">p</span><span style=\"color: #000000; text-decoration-color: #000000\">&gt;</span>\n",
       "<span style=\"color: #000000; text-decoration-color: #000000\">  &lt;</span><span style=\"color: #800080; text-decoration-color: #800080\">/</span><span style=\"color: #ff00ff; text-decoration-color: #ff00ff\">short-instructions</span><span style=\"color: #000000; text-decoration-color: #000000\">&gt;</span>\n",
       "\n",
       "<span style=\"color: #000000; text-decoration-color: #000000\">  &lt;h2&gt;Reimbursement request&lt;</span><span style=\"color: #800080; text-decoration-color: #800080\">/</span><span style=\"color: #ff00ff; text-decoration-color: #ff00ff\">h2</span><span style=\"color: #000000; text-decoration-color: #000000\">&gt;</span>\n",
       "<span style=\"color: #000000; text-decoration-color: #000000\">  &lt;ul&gt;</span>\n",
       "<span style=\"color: #000000; text-decoration-color: #000000\">    &lt;li&gt;Date of expense = </span><span style=\"color: #000000; text-decoration-color: #000000; font-weight: bold\">{{</span><span style=\"color: #000000; text-decoration-color: #000000\"> task.input.date_of_expense </span><span style=\"color: #000000; text-decoration-color: #000000; font-weight: bold\">}}</span><span style=\"color: #000000; text-decoration-color: #000000\">&lt;</span><span style=\"color: #800080; text-decoration-color: #800080\">/</span><span style=\"color: #ff00ff; text-decoration-color: #ff00ff\">li</span><span style=\"color: #000000; text-decoration-color: #000000\">&gt;</span>\n",
       "<span style=\"color: #000000; text-decoration-color: #000000\">    &lt;li&gt;Payment method = </span><span style=\"color: #000000; text-decoration-color: #000000; font-weight: bold\">{{</span><span style=\"color: #000000; text-decoration-color: #000000\"> task.input.payment_method </span><span style=\"color: #000000; text-decoration-color: #000000; font-weight: bold\">}}</span><span style=\"color: #000000; text-decoration-color: #000000\">&lt;</span><span style=\"color: #800080; text-decoration-color: #800080\">/</span><span style=\"color: #ff00ff; text-decoration-color: #ff00ff\">li</span><span style=\"color: #000000; text-decoration-color: #000000\">&gt;</span>\n",
       "<span style=\"color: #000000; text-decoration-color: #000000\">    &lt;li&gt;Purpose of expenditure = </span><span style=\"color: #000000; text-decoration-color: #000000; font-weight: bold\">{{</span><span style=\"color: #000000; text-decoration-color: #000000\"> task.input.purpose_of_expenditure </span><span style=\"color: #000000; text-decoration-color: #000000; font-weight: bold\">}}</span><span style=\"color: #000000; text-decoration-color: #000000\">&lt;</span><span style=\"color: #800080; text-decoration-color: #800080\">/</span><span style=\"color: #ff00ff; text-decoration-color: #ff00ff\">li</span><span style=\"color: #000000; text-decoration-color: #000000\">&gt;</span>\n",
       "<span style=\"color: #000000; text-decoration-color: #000000\">    &lt;li&gt;Amount = $ </span><span style=\"color: #000000; text-decoration-color: #000000; font-weight: bold\">{{</span><span style=\"color: #000000; text-decoration-color: #000000\"> task.input.amount </span><span style=\"color: #000000; text-decoration-color: #000000; font-weight: bold\">}}</span><span style=\"color: #000000; text-decoration-color: #000000\">&lt;</span><span style=\"color: #800080; text-decoration-color: #800080\">/</span><span style=\"color: #ff00ff; text-decoration-color: #ff00ff\">li</span><span style=\"color: #000000; text-decoration-color: #000000\">&gt;</span>\n",
       "<span style=\"color: #000000; text-decoration-color: #000000\">  &lt;</span><span style=\"color: #800080; text-decoration-color: #800080\">/</span><span style=\"color: #ff00ff; text-decoration-color: #ff00ff\">ul</span><span style=\"color: #000000; text-decoration-color: #000000\">&gt;</span>\n",
       "\n",
       "<span style=\"color: #000000; text-decoration-color: #000000\">  &lt;h2&gt;Approve or deny it&lt;</span><span style=\"color: #800080; text-decoration-color: #800080\">/</span><span style=\"color: #ff00ff; text-decoration-color: #ff00ff\">h2</span><span style=\"color: #000000; text-decoration-color: #000000\">&gt;</span>\n",
       "\n",
       "<span style=\"color: #000000; text-decoration-color: #000000\">  &lt;input </span><span style=\"color: #808000; text-decoration-color: #808000\">type</span><span style=\"color: #000000; text-decoration-color: #000000\">=</span><span style=\"color: #008000; text-decoration-color: #008000\">\"radio\"</span><span style=\"color: #000000; text-decoration-color: #000000\"> </span><span style=\"color: #808000; text-decoration-color: #808000\">id</span><span style=\"color: #000000; text-decoration-color: #000000\">=</span><span style=\"color: #008000; text-decoration-color: #008000\">\"approve\"</span><span style=\"color: #000000; text-decoration-color: #000000\"> </span><span style=\"color: #808000; text-decoration-color: #808000\">name</span><span style=\"color: #000000; text-decoration-color: #000000\">=</span><span style=\"color: #008000; text-decoration-color: #008000\">\"decision\"</span><span style=\"color: #000000; text-decoration-color: #000000\"> </span><span style=\"color: #808000; text-decoration-color: #808000\">value</span><span style=\"color: #000000; text-decoration-color: #000000\">=</span><span style=\"color: #008000; text-decoration-color: #008000\">\"approve\"</span><span style=\"color: #000000; text-decoration-color: #000000\"> required&gt;</span>\n",
       "<span style=\"color: #000000; text-decoration-color: #000000\">  &lt;label </span><span style=\"color: #808000; text-decoration-color: #808000\">for</span><span style=\"color: #000000; text-decoration-color: #000000\">=</span><span style=\"color: #008000; text-decoration-color: #008000\">\"approve\"</span><span style=\"color: #000000; text-decoration-color: #000000\">&gt;Approve&lt;</span><span style=\"color: #800080; text-decoration-color: #800080\">/</span><span style=\"color: #ff00ff; text-decoration-color: #ff00ff\">label</span><span style=\"color: #000000; text-decoration-color: #000000\">&gt;</span>\n",
       "\n",
       "<span style=\"color: #000000; text-decoration-color: #000000\">  &lt;input </span><span style=\"color: #808000; text-decoration-color: #808000\">type</span><span style=\"color: #000000; text-decoration-color: #000000\">=</span><span style=\"color: #008000; text-decoration-color: #008000\">\"radio\"</span><span style=\"color: #000000; text-decoration-color: #000000\"> </span><span style=\"color: #808000; text-decoration-color: #808000\">id</span><span style=\"color: #000000; text-decoration-color: #000000\">=</span><span style=\"color: #008000; text-decoration-color: #008000\">\"deny\"</span><span style=\"color: #000000; text-decoration-color: #000000\"> </span><span style=\"color: #808000; text-decoration-color: #808000\">name</span><span style=\"color: #000000; text-decoration-color: #000000\">=</span><span style=\"color: #008000; text-decoration-color: #008000\">\"decision\"</span><span style=\"color: #000000; text-decoration-color: #000000\"> </span><span style=\"color: #808000; text-decoration-color: #808000\">value</span><span style=\"color: #000000; text-decoration-color: #000000\">=</span><span style=\"color: #008000; text-decoration-color: #008000\">\"deny\"</span><span style=\"color: #000000; text-decoration-color: #000000\"> required&gt;</span>\n",
       "<span style=\"color: #000000; text-decoration-color: #000000\">  &lt;label </span><span style=\"color: #808000; text-decoration-color: #808000\">for</span><span style=\"color: #000000; text-decoration-color: #000000\">=</span><span style=\"color: #008000; text-decoration-color: #008000\">\"deny\"</span><span style=\"color: #000000; text-decoration-color: #000000\">&gt;Deny&lt;</span><span style=\"color: #800080; text-decoration-color: #800080\">/</span><span style=\"color: #ff00ff; text-decoration-color: #ff00ff\">label</span><span style=\"color: #000000; text-decoration-color: #000000\">&gt;</span>\n",
       "\n",
       "<span style=\"color: #000000; text-decoration-color: #000000\">  &lt;br&gt;</span>\n",
       "\n",
       "<span style=\"color: #000000; text-decoration-color: #000000\">&lt;</span><span style=\"color: #800080; text-decoration-color: #800080\">/</span><span style=\"color: #ff00ff; text-decoration-color: #ff00ff\">crowd-form</span><span style=\"font-weight: bold\">&gt;</span>\n",
       "\n",
       "</pre>\n"
      ],
      "text/plain": [
       "\u001b[1m<\u001b[0m\u001b[1;95mscript\u001b[0m\u001b[39m \u001b[0m\u001b[33msrc\u001b[0m\u001b[39m=\u001b[0m\u001b[32m\"https\u001b[0m\u001b[32m://assets.crowd.aws/crowd-html-elements.js\"\u001b[0m\u001b[39m><\u001b[0m\u001b[35m/\u001b[0m\u001b[95mscript\u001b[0m\u001b[39m>\u001b[0m\n",
       "\n",
       "\u001b[39m<crowd-form>\u001b[0m\n",
       "\u001b[39m  <full-instructions \u001b[0m\u001b[33mheader\u001b[0m\u001b[39m=\u001b[0m\u001b[32m\"Instructions\"\u001b[0m\u001b[39m>\u001b[0m\n",
       "\u001b[39m    <p>Check the following data points: Date of expense, Payment method, Purpose of expenditure, amount. <\u001b[0m\u001b[35m/\u001b[0m\u001b[95mp\u001b[0m\u001b[39m>\u001b[0m\n",
       "\u001b[39m  <\u001b[0m\u001b[35m/\u001b[0m\u001b[95mfull-instructions\u001b[0m\u001b[39m>\u001b[0m\n",
       "\n",
       "\u001b[39m  <short-instructions>\u001b[0m\n",
       "\u001b[39m    <p>Review this reimbursement request, approve or deny it.<\u001b[0m\u001b[35m/\u001b[0m\u001b[95mp\u001b[0m\u001b[39m>\u001b[0m\n",
       "\u001b[39m  <\u001b[0m\u001b[35m/\u001b[0m\u001b[95mshort-instructions\u001b[0m\u001b[39m>\u001b[0m\n",
       "\n",
       "\u001b[39m  <h2>Reimbursement request<\u001b[0m\u001b[35m/\u001b[0m\u001b[95mh2\u001b[0m\u001b[39m>\u001b[0m\n",
       "\u001b[39m  <ul>\u001b[0m\n",
       "\u001b[39m    <li>Date of expense = \u001b[0m\u001b[1;39m{\u001b[0m\u001b[1;39m{\u001b[0m\u001b[39m task.input.date_of_expense \u001b[0m\u001b[1;39m}\u001b[0m\u001b[1;39m}\u001b[0m\u001b[39m<\u001b[0m\u001b[35m/\u001b[0m\u001b[95mli\u001b[0m\u001b[39m>\u001b[0m\n",
       "\u001b[39m    <li>Payment method = \u001b[0m\u001b[1;39m{\u001b[0m\u001b[1;39m{\u001b[0m\u001b[39m task.input.payment_method \u001b[0m\u001b[1;39m}\u001b[0m\u001b[1;39m}\u001b[0m\u001b[39m<\u001b[0m\u001b[35m/\u001b[0m\u001b[95mli\u001b[0m\u001b[39m>\u001b[0m\n",
       "\u001b[39m    <li>Purpose of expenditure = \u001b[0m\u001b[1;39m{\u001b[0m\u001b[1;39m{\u001b[0m\u001b[39m task.input.purpose_of_expenditure \u001b[0m\u001b[1;39m}\u001b[0m\u001b[1;39m}\u001b[0m\u001b[39m<\u001b[0m\u001b[35m/\u001b[0m\u001b[95mli\u001b[0m\u001b[39m>\u001b[0m\n",
       "\u001b[39m    <li>Amount = $ \u001b[0m\u001b[1;39m{\u001b[0m\u001b[1;39m{\u001b[0m\u001b[39m task.input.amount \u001b[0m\u001b[1;39m}\u001b[0m\u001b[1;39m}\u001b[0m\u001b[39m<\u001b[0m\u001b[35m/\u001b[0m\u001b[95mli\u001b[0m\u001b[39m>\u001b[0m\n",
       "\u001b[39m  <\u001b[0m\u001b[35m/\u001b[0m\u001b[95mul\u001b[0m\u001b[39m>\u001b[0m\n",
       "\n",
       "\u001b[39m  <h2>Approve or deny it<\u001b[0m\u001b[35m/\u001b[0m\u001b[95mh2\u001b[0m\u001b[39m>\u001b[0m\n",
       "\n",
       "\u001b[39m  <input \u001b[0m\u001b[33mtype\u001b[0m\u001b[39m=\u001b[0m\u001b[32m\"radio\"\u001b[0m\u001b[39m \u001b[0m\u001b[33mid\u001b[0m\u001b[39m=\u001b[0m\u001b[32m\"approve\"\u001b[0m\u001b[39m \u001b[0m\u001b[33mname\u001b[0m\u001b[39m=\u001b[0m\u001b[32m\"decision\"\u001b[0m\u001b[39m \u001b[0m\u001b[33mvalue\u001b[0m\u001b[39m=\u001b[0m\u001b[32m\"approve\"\u001b[0m\u001b[39m required>\u001b[0m\n",
       "\u001b[39m  <label \u001b[0m\u001b[33mfor\u001b[0m\u001b[39m=\u001b[0m\u001b[32m\"approve\"\u001b[0m\u001b[39m>Approve<\u001b[0m\u001b[35m/\u001b[0m\u001b[95mlabel\u001b[0m\u001b[39m>\u001b[0m\n",
       "\n",
       "\u001b[39m  <input \u001b[0m\u001b[33mtype\u001b[0m\u001b[39m=\u001b[0m\u001b[32m\"radio\"\u001b[0m\u001b[39m \u001b[0m\u001b[33mid\u001b[0m\u001b[39m=\u001b[0m\u001b[32m\"deny\"\u001b[0m\u001b[39m \u001b[0m\u001b[33mname\u001b[0m\u001b[39m=\u001b[0m\u001b[32m\"decision\"\u001b[0m\u001b[39m \u001b[0m\u001b[33mvalue\u001b[0m\u001b[39m=\u001b[0m\u001b[32m\"deny\"\u001b[0m\u001b[39m required>\u001b[0m\n",
       "\u001b[39m  <label \u001b[0m\u001b[33mfor\u001b[0m\u001b[39m=\u001b[0m\u001b[32m\"deny\"\u001b[0m\u001b[39m>Deny<\u001b[0m\u001b[35m/\u001b[0m\u001b[95mlabel\u001b[0m\u001b[39m>\u001b[0m\n",
       "\n",
       "\u001b[39m  <br>\u001b[0m\n",
       "\n",
       "\u001b[39m<\u001b[0m\u001b[35m/\u001b[0m\u001b[95mcrowd-form\u001b[0m\u001b[1m>\u001b[0m\n",
       "\n"
      ]
     },
     "metadata": {},
     "output_type": "display_data"
    }
   ],
   "source": [
    "rprint(path_task_template.read_text())"
   ]
  },
  {
   "cell_type": "markdown",
   "metadata": {
    "collapsed": false,
    "jupyter": {
     "outputs_hidden": false
    },
    "pycharm": {
     "name": "#%% md\n"
    }
   },
   "source": [
    "Deploy Task UI Template"
   ]
  },
  {
   "cell_type": "code",
   "execution_count": 4,
   "metadata": {
    "collapsed": false,
    "jupyter": {
     "outputs_hidden": false
    },
    "pycharm": {
     "name": "#%%\n"
    }
   },
   "outputs": [
    {
     "name": "stdout",
     "output_type": "stream",
     "text": [
      "🚀 Deploy Human in Loop task template\n",
      "  preview at https://us-east-1.console.aws.amazon.com/sagemaker/groundtruth?region=us-east-1#/a2i/worker-task-templates/aws-a2i-example\n",
      "  a HIL task template with the same content already exists, do nothing.\n"
     ]
    }
   ],
   "source": [
    "play.deploy_hil_task_template(bsm=bsm, verbose=True);"
   ]
  },
  {
   "cell_type": "markdown",
   "metadata": {
    "collapsed": false,
    "jupyter": {
     "outputs_hidden": false
    },
    "pycharm": {
     "name": "#%% md\n"
    }
   },
   "source": [
    "Then we can deploy the Human Review Workflow definition"
   ]
  },
  {
   "cell_type": "code",
   "execution_count": 5,
   "metadata": {
    "collapsed": false,
    "jupyter": {
     "outputs_hidden": false
    },
    "pycharm": {
     "name": "#%%\n"
    }
   },
   "outputs": [
    {
     "name": "stdout",
     "output_type": "stream",
     "text": [
      "🚀 Deploy Human review workflow definition, it may takes 30 sec ~ 1 minute\n",
      "  preview at https://us-east-1.console.aws.amazon.com/sagemaker/groundtruth?region=us-east-1#/a2i/human-review-workflows/aws-a2i-example\n",
      "  No configuration changed, do nothing.\n"
     ]
    }
   ],
   "source": [
    "play.deploy_flow_definition(\n",
    "    bsm=bsm,\n",
    "    task_description=\"Review reimbursement request\",\n",
    "    task_count=1,\n",
    ");"
   ]
  },
  {
   "cell_type": "markdown",
   "metadata": {
    "collapsed": false,
    "jupyter": {
     "outputs_hidden": false
    },
    "pycharm": {
     "name": "#%% md\n"
    }
   },
   "source": [
    "Now the human review workflow is ready to use, let's start some human loop task and review some reimbursement request!"
   ]
  },
  {
   "cell_type": "code",
   "execution_count": 6,
   "metadata": {
    "collapsed": false,
    "jupyter": {
     "outputs_hidden": false
    },
    "pycharm": {
     "name": "#%%\n"
    }
   },
   "outputs": [
    {
     "name": "stdout",
     "output_type": "stream",
     "text": [
      "Login to the workspace: https://a1b2c3d4.labeling.us-east-1.sagemaker.aws\n",
      "⏯ Start a Human Loop Task '1293ffcc-eca9-44ab-ae67-3c784f2ac8f5'\n",
      "  You can preview HIL status at https://us-east-1.console.aws.amazon.com/sagemaker/groundtruth?region=us-east-1#/a2i/human-review-workflows/aws-a2i-example/human-loops/1293ffcc-eca9-44ab-ae67-3c784f2ac8f5\n"
     ]
    },
    {
     "data": {
      "text/plain": [
       "'arn:aws:sagemaker:us-east-1:111122223333:human-loop/1293ffcc-eca9-44ab-ae67-3c784f2ac8f5'"
      ]
     },
     "execution_count": 6,
     "metadata": {},
     "output_type": "execute_result"
    }
   ],
   "source": [
    "workspace_signin_url = play.get_workspace_signin_url(bsm=bsm)\n",
    "print(f\"Login to the workspace: {workspace_signin_url}\")\n",
    "input_data = {\n",
    "    \"date_of_expense\": \"2020-01-01\",\n",
    "    \"payment_method\": \"Credit Card\",\n",
    "    \"purpose_of_expenditure\": \"Business Meal\",\n",
    "    \"amount\": \"36.99\",\n",
    "}\n",
    "play.start_human_loop(bsm=bsm, input_data=input_data)"
   ]
  },
  {
   "cell_type": "markdown",
   "metadata": {
    "collapsed": false,
    "jupyter": {
     "outputs_hidden": false
    },
    "pycharm": {
     "name": "#%% md\n"
    }
   },
   "source": [
    "You can list human loops, and it returns user friendly ``HumanLoop`` objects."
   ]
  },
  {
   "cell_type": "code",
   "execution_count": 7,
   "metadata": {
    "collapsed": false,
    "jupyter": {
     "outputs_hidden": false
    },
    "pycharm": {
     "name": "#%%\n"
    }
   },
   "outputs": [
    {
     "data": {
      "text/html": [
       "<pre style=\"white-space:pre;overflow-x:auto;line-height:normal;font-family:Menlo,'DejaVu Sans Mono',consolas,'Courier New',monospace\"><span style=\"color: #800080; text-decoration-color: #800080; font-weight: bold\">HumanLoop</span><span style=\"font-weight: bold\">(</span>\n",
       "    <span style=\"color: #808000; text-decoration-color: #808000\">creation_time</span>=<span style=\"color: #800080; text-decoration-color: #800080; font-weight: bold\">datetime</span><span style=\"color: #800080; text-decoration-color: #800080; font-weight: bold\">.datetime</span><span style=\"font-weight: bold\">(</span><span style=\"color: #008080; text-decoration-color: #008080; font-weight: bold\">2023</span>, <span style=\"color: #008080; text-decoration-color: #008080; font-weight: bold\">7</span>, <span style=\"color: #008080; text-decoration-color: #008080; font-weight: bold\">12</span>, <span style=\"color: #008080; text-decoration-color: #008080; font-weight: bold\">0</span>, <span style=\"color: #008080; text-decoration-color: #008080; font-weight: bold\">32</span>, <span style=\"color: #008080; text-decoration-color: #008080; font-weight: bold\">56</span>, <span style=\"color: #008080; text-decoration-color: #008080; font-weight: bold\">746000</span>, <span style=\"color: #808000; text-decoration-color: #808000\">tzinfo</span>=<span style=\"color: #800080; text-decoration-color: #800080; font-weight: bold\">tzutc</span><span style=\"font-weight: bold\">())</span>,\n",
       "    <span style=\"color: #808000; text-decoration-color: #808000\">failure_reason</span>=<span style=\"color: #800080; text-decoration-color: #800080; font-style: italic\">None</span>,\n",
       "    <span style=\"color: #808000; text-decoration-color: #808000\">failure_code</span>=<span style=\"color: #800080; text-decoration-color: #800080; font-style: italic\">None</span>,\n",
       "    <span style=\"color: #808000; text-decoration-color: #808000\">human_loop_status</span>=<span style=\"color: #008000; text-decoration-color: #008000\">'InProgress'</span>,\n",
       "    <span style=\"color: #808000; text-decoration-color: #808000\">human_loop_name</span>=<span style=\"color: #008000; text-decoration-color: #008000\">'1293ffcc-eca9-44ab-ae67-3c784f2ac8f5'</span>,\n",
       "    <span style=\"color: #808000; text-decoration-color: #808000\">human_loop_arn</span>=<span style=\"color: #008000; text-decoration-color: #008000\">'arn:aws:sagemaker:us-east-1:111122223333:human-loop/1293ffcc-eca9-44ab-ae67-3c784f2ac8f5'</span>,\n",
       "    <span style=\"color: #808000; text-decoration-color: #808000\">flow_definition_arn</span>=<span style=\"color: #008000; text-decoration-color: #008000\">'arn:aws:sagemaker:us-east-1:111122223333:flow-definition/aws-a2i-example'</span>,\n",
       "    <span style=\"color: #808000; text-decoration-color: #808000\">human_loop_output_s3uri</span>=<span style=\"color: #800080; text-decoration-color: #800080; font-style: italic\">None</span>,\n",
       "    <span style=\"color: #808000; text-decoration-color: #808000\">data</span>=<span style=\"font-weight: bold\">{</span>\n",
       "        <span style=\"color: #008000; text-decoration-color: #008000\">'HumanLoopName'</span>: <span style=\"color: #008000; text-decoration-color: #008000\">'1293ffcc-eca9-44ab-ae67-3c784f2ac8f5'</span>,\n",
       "        <span style=\"color: #008000; text-decoration-color: #008000\">'HumanLoopStatus'</span>: <span style=\"color: #008000; text-decoration-color: #008000\">'InProgress'</span>,\n",
       "        <span style=\"color: #008000; text-decoration-color: #008000\">'CreationTime'</span>: <span style=\"color: #800080; text-decoration-color: #800080; font-weight: bold\">datetime.datetime</span><span style=\"font-weight: bold\">(</span><span style=\"color: #008080; text-decoration-color: #008080; font-weight: bold\">2023</span>, <span style=\"color: #008080; text-decoration-color: #008080; font-weight: bold\">7</span>, <span style=\"color: #008080; text-decoration-color: #008080; font-weight: bold\">12</span>, <span style=\"color: #008080; text-decoration-color: #008080; font-weight: bold\">0</span>, <span style=\"color: #008080; text-decoration-color: #008080; font-weight: bold\">32</span>, <span style=\"color: #008080; text-decoration-color: #008080; font-weight: bold\">56</span>, <span style=\"color: #008080; text-decoration-color: #008080; font-weight: bold\">746000</span>, <span style=\"color: #808000; text-decoration-color: #808000\">tzinfo</span>=<span style=\"color: #800080; text-decoration-color: #800080; font-weight: bold\">tzutc</span><span style=\"font-weight: bold\">())</span>,\n",
       "        <span style=\"color: #008000; text-decoration-color: #008000\">'FlowDefinitionArn'</span>: <span style=\"color: #008000; text-decoration-color: #008000\">'arn:aws:sagemaker:us-east-1:111122223333:flow-definition/aws-a2i-example'</span>\n",
       "    <span style=\"font-weight: bold\">}</span>\n",
       "<span style=\"font-weight: bold\">)</span>\n",
       "</pre>\n"
      ],
      "text/plain": [
       "\u001b[1;35mHumanLoop\u001b[0m\u001b[1m(\u001b[0m\n",
       "    \u001b[33mcreation_time\u001b[0m=\u001b[1;35mdatetime\u001b[0m\u001b[1;35m.datetime\u001b[0m\u001b[1m(\u001b[0m\u001b[1;36m2023\u001b[0m, \u001b[1;36m7\u001b[0m, \u001b[1;36m12\u001b[0m, \u001b[1;36m0\u001b[0m, \u001b[1;36m32\u001b[0m, \u001b[1;36m56\u001b[0m, \u001b[1;36m746000\u001b[0m, \u001b[33mtzinfo\u001b[0m=\u001b[1;35mtzutc\u001b[0m\u001b[1m(\u001b[0m\u001b[1m)\u001b[0m\u001b[1m)\u001b[0m,\n",
       "    \u001b[33mfailure_reason\u001b[0m=\u001b[3;35mNone\u001b[0m,\n",
       "    \u001b[33mfailure_code\u001b[0m=\u001b[3;35mNone\u001b[0m,\n",
       "    \u001b[33mhuman_loop_status\u001b[0m=\u001b[32m'InProgress'\u001b[0m,\n",
       "    \u001b[33mhuman_loop_name\u001b[0m=\u001b[32m'1293ffcc-eca9-44ab-ae67-3c784f2ac8f5'\u001b[0m,\n",
       "    \u001b[33mhuman_loop_arn\u001b[0m=\u001b[32m'arn:aws:sagemaker:us-east-1:111122223333:human-loop/1293ffcc-eca9-44ab-ae67-3c784f2ac8f5'\u001b[0m,\n",
       "    \u001b[33mflow_definition_arn\u001b[0m=\u001b[32m'arn:aws:sagemaker:us-east-1:111122223333:flow-definition/aws-a2i-example'\u001b[0m,\n",
       "    \u001b[33mhuman_loop_output_s3uri\u001b[0m=\u001b[3;35mNone\u001b[0m,\n",
       "    \u001b[33mdata\u001b[0m=\u001b[1m{\u001b[0m\n",
       "        \u001b[32m'HumanLoopName'\u001b[0m: \u001b[32m'1293ffcc-eca9-44ab-ae67-3c784f2ac8f5'\u001b[0m,\n",
       "        \u001b[32m'HumanLoopStatus'\u001b[0m: \u001b[32m'InProgress'\u001b[0m,\n",
       "        \u001b[32m'CreationTime'\u001b[0m: \u001b[1;35mdatetime.datetime\u001b[0m\u001b[1m(\u001b[0m\u001b[1;36m2023\u001b[0m, \u001b[1;36m7\u001b[0m, \u001b[1;36m12\u001b[0m, \u001b[1;36m0\u001b[0m, \u001b[1;36m32\u001b[0m, \u001b[1;36m56\u001b[0m, \u001b[1;36m746000\u001b[0m, \u001b[33mtzinfo\u001b[0m=\u001b[1;35mtzutc\u001b[0m\u001b[1m(\u001b[0m\u001b[1m)\u001b[0m\u001b[1m)\u001b[0m,\n",
       "        \u001b[32m'FlowDefinitionArn'\u001b[0m: \u001b[32m'arn:aws:sagemaker:us-east-1:111122223333:flow-definition/aws-a2i-example'\u001b[0m\n",
       "    \u001b[1m}\u001b[0m\n",
       "\u001b[1m)\u001b[0m\n"
      ]
     },
     "metadata": {},
     "output_type": "display_data"
    },
    {
     "data": {
      "text/html": [
       "<pre style=\"white-space:pre;overflow-x:auto;line-height:normal;font-family:Menlo,'DejaVu Sans Mono',consolas,'Courier New',monospace\"><span style=\"color: #800080; text-decoration-color: #800080; font-weight: bold\">HumanLoop</span><span style=\"font-weight: bold\">(</span>\n",
       "    <span style=\"color: #808000; text-decoration-color: #808000\">creation_time</span>=<span style=\"color: #800080; text-decoration-color: #800080; font-weight: bold\">datetime</span><span style=\"color: #800080; text-decoration-color: #800080; font-weight: bold\">.datetime</span><span style=\"font-weight: bold\">(</span><span style=\"color: #008080; text-decoration-color: #008080; font-weight: bold\">2023</span>, <span style=\"color: #008080; text-decoration-color: #008080; font-weight: bold\">7</span>, <span style=\"color: #008080; text-decoration-color: #008080; font-weight: bold\">12</span>, <span style=\"color: #008080; text-decoration-color: #008080; font-weight: bold\">0</span>, <span style=\"color: #008080; text-decoration-color: #008080; font-weight: bold\">32</span>, <span style=\"color: #008080; text-decoration-color: #008080; font-weight: bold\">6</span>, <span style=\"color: #008080; text-decoration-color: #008080; font-weight: bold\">27000</span>, <span style=\"color: #808000; text-decoration-color: #808000\">tzinfo</span>=<span style=\"color: #800080; text-decoration-color: #800080; font-weight: bold\">tzutc</span><span style=\"font-weight: bold\">())</span>,\n",
       "    <span style=\"color: #808000; text-decoration-color: #808000\">failure_reason</span>=<span style=\"color: #800080; text-decoration-color: #800080; font-style: italic\">None</span>,\n",
       "    <span style=\"color: #808000; text-decoration-color: #808000\">failure_code</span>=<span style=\"color: #800080; text-decoration-color: #800080; font-style: italic\">None</span>,\n",
       "    <span style=\"color: #808000; text-decoration-color: #808000\">human_loop_status</span>=<span style=\"color: #008000; text-decoration-color: #008000\">'InProgress'</span>,\n",
       "    <span style=\"color: #808000; text-decoration-color: #808000\">human_loop_name</span>=<span style=\"color: #008000; text-decoration-color: #008000\">'75a77481-df0c-4476-98f2-d6773d0a2288'</span>,\n",
       "    <span style=\"color: #808000; text-decoration-color: #808000\">human_loop_arn</span>=<span style=\"color: #008000; text-decoration-color: #008000\">'arn:aws:sagemaker:us-east-1:111122223333:human-loop/75a77481-df0c-4476-98f2-d6773d0a2288'</span>,\n",
       "    <span style=\"color: #808000; text-decoration-color: #808000\">flow_definition_arn</span>=<span style=\"color: #008000; text-decoration-color: #008000\">'arn:aws:sagemaker:us-east-1:111122223333:flow-definition/aws-a2i-example'</span>,\n",
       "    <span style=\"color: #808000; text-decoration-color: #808000\">human_loop_output_s3uri</span>=<span style=\"color: #800080; text-decoration-color: #800080; font-style: italic\">None</span>,\n",
       "    <span style=\"color: #808000; text-decoration-color: #808000\">data</span>=<span style=\"font-weight: bold\">{</span>\n",
       "        <span style=\"color: #008000; text-decoration-color: #008000\">'HumanLoopName'</span>: <span style=\"color: #008000; text-decoration-color: #008000\">'75a77481-df0c-4476-98f2-d6773d0a2288'</span>,\n",
       "        <span style=\"color: #008000; text-decoration-color: #008000\">'HumanLoopStatus'</span>: <span style=\"color: #008000; text-decoration-color: #008000\">'InProgress'</span>,\n",
       "        <span style=\"color: #008000; text-decoration-color: #008000\">'CreationTime'</span>: <span style=\"color: #800080; text-decoration-color: #800080; font-weight: bold\">datetime.datetime</span><span style=\"font-weight: bold\">(</span><span style=\"color: #008080; text-decoration-color: #008080; font-weight: bold\">2023</span>, <span style=\"color: #008080; text-decoration-color: #008080; font-weight: bold\">7</span>, <span style=\"color: #008080; text-decoration-color: #008080; font-weight: bold\">12</span>, <span style=\"color: #008080; text-decoration-color: #008080; font-weight: bold\">0</span>, <span style=\"color: #008080; text-decoration-color: #008080; font-weight: bold\">32</span>, <span style=\"color: #008080; text-decoration-color: #008080; font-weight: bold\">6</span>, <span style=\"color: #008080; text-decoration-color: #008080; font-weight: bold\">27000</span>, <span style=\"color: #808000; text-decoration-color: #808000\">tzinfo</span>=<span style=\"color: #800080; text-decoration-color: #800080; font-weight: bold\">tzutc</span><span style=\"font-weight: bold\">())</span>,\n",
       "        <span style=\"color: #008000; text-decoration-color: #008000\">'FlowDefinitionArn'</span>: <span style=\"color: #008000; text-decoration-color: #008000\">'arn:aws:sagemaker:us-east-1:111122223333:flow-definition/aws-a2i-example'</span>\n",
       "    <span style=\"font-weight: bold\">}</span>\n",
       "<span style=\"font-weight: bold\">)</span>\n",
       "</pre>\n"
      ],
      "text/plain": [
       "\u001b[1;35mHumanLoop\u001b[0m\u001b[1m(\u001b[0m\n",
       "    \u001b[33mcreation_time\u001b[0m=\u001b[1;35mdatetime\u001b[0m\u001b[1;35m.datetime\u001b[0m\u001b[1m(\u001b[0m\u001b[1;36m2023\u001b[0m, \u001b[1;36m7\u001b[0m, \u001b[1;36m12\u001b[0m, \u001b[1;36m0\u001b[0m, \u001b[1;36m32\u001b[0m, \u001b[1;36m6\u001b[0m, \u001b[1;36m27000\u001b[0m, \u001b[33mtzinfo\u001b[0m=\u001b[1;35mtzutc\u001b[0m\u001b[1m(\u001b[0m\u001b[1m)\u001b[0m\u001b[1m)\u001b[0m,\n",
       "    \u001b[33mfailure_reason\u001b[0m=\u001b[3;35mNone\u001b[0m,\n",
       "    \u001b[33mfailure_code\u001b[0m=\u001b[3;35mNone\u001b[0m,\n",
       "    \u001b[33mhuman_loop_status\u001b[0m=\u001b[32m'InProgress'\u001b[0m,\n",
       "    \u001b[33mhuman_loop_name\u001b[0m=\u001b[32m'75a77481-df0c-4476-98f2-d6773d0a2288'\u001b[0m,\n",
       "    \u001b[33mhuman_loop_arn\u001b[0m=\u001b[32m'arn:aws:sagemaker:us-east-1:111122223333:human-loop/75a77481-df0c-4476-98f2-d6773d0a2288'\u001b[0m,\n",
       "    \u001b[33mflow_definition_arn\u001b[0m=\u001b[32m'arn:aws:sagemaker:us-east-1:111122223333:flow-definition/aws-a2i-example'\u001b[0m,\n",
       "    \u001b[33mhuman_loop_output_s3uri\u001b[0m=\u001b[3;35mNone\u001b[0m,\n",
       "    \u001b[33mdata\u001b[0m=\u001b[1m{\u001b[0m\n",
       "        \u001b[32m'HumanLoopName'\u001b[0m: \u001b[32m'75a77481-df0c-4476-98f2-d6773d0a2288'\u001b[0m,\n",
       "        \u001b[32m'HumanLoopStatus'\u001b[0m: \u001b[32m'InProgress'\u001b[0m,\n",
       "        \u001b[32m'CreationTime'\u001b[0m: \u001b[1;35mdatetime.datetime\u001b[0m\u001b[1m(\u001b[0m\u001b[1;36m2023\u001b[0m, \u001b[1;36m7\u001b[0m, \u001b[1;36m12\u001b[0m, \u001b[1;36m0\u001b[0m, \u001b[1;36m32\u001b[0m, \u001b[1;36m6\u001b[0m, \u001b[1;36m27000\u001b[0m, \u001b[33mtzinfo\u001b[0m=\u001b[1;35mtzutc\u001b[0m\u001b[1m(\u001b[0m\u001b[1m)\u001b[0m\u001b[1m)\u001b[0m,\n",
       "        \u001b[32m'FlowDefinitionArn'\u001b[0m: \u001b[32m'arn:aws:sagemaker:us-east-1:111122223333:flow-definition/aws-a2i-example'\u001b[0m\n",
       "    \u001b[1m}\u001b[0m\n",
       "\u001b[1m)\u001b[0m\n"
      ]
     },
     "metadata": {},
     "output_type": "display_data"
    },
    {
     "data": {
      "text/html": [
       "<pre style=\"white-space:pre;overflow-x:auto;line-height:normal;font-family:Menlo,'DejaVu Sans Mono',consolas,'Courier New',monospace\"><span style=\"color: #800080; text-decoration-color: #800080; font-weight: bold\">HumanLoop</span><span style=\"font-weight: bold\">(</span>\n",
       "    <span style=\"color: #808000; text-decoration-color: #808000\">creation_time</span>=<span style=\"color: #800080; text-decoration-color: #800080; font-weight: bold\">datetime</span><span style=\"color: #800080; text-decoration-color: #800080; font-weight: bold\">.datetime</span><span style=\"font-weight: bold\">(</span><span style=\"color: #008080; text-decoration-color: #008080; font-weight: bold\">2023</span>, <span style=\"color: #008080; text-decoration-color: #008080; font-weight: bold\">7</span>, <span style=\"color: #008080; text-decoration-color: #008080; font-weight: bold\">12</span>, <span style=\"color: #008080; text-decoration-color: #008080; font-weight: bold\">0</span>, <span style=\"color: #008080; text-decoration-color: #008080; font-weight: bold\">30</span>, <span style=\"color: #008080; text-decoration-color: #008080; font-weight: bold\">4</span>, <span style=\"color: #008080; text-decoration-color: #008080; font-weight: bold\">543000</span>, <span style=\"color: #808000; text-decoration-color: #808000\">tzinfo</span>=<span style=\"color: #800080; text-decoration-color: #800080; font-weight: bold\">tzutc</span><span style=\"font-weight: bold\">())</span>,\n",
       "    <span style=\"color: #808000; text-decoration-color: #808000\">failure_reason</span>=<span style=\"color: #800080; text-decoration-color: #800080; font-style: italic\">None</span>,\n",
       "    <span style=\"color: #808000; text-decoration-color: #808000\">failure_code</span>=<span style=\"color: #800080; text-decoration-color: #800080; font-style: italic\">None</span>,\n",
       "    <span style=\"color: #808000; text-decoration-color: #808000\">human_loop_status</span>=<span style=\"color: #008000; text-decoration-color: #008000\">'InProgress'</span>,\n",
       "    <span style=\"color: #808000; text-decoration-color: #808000\">human_loop_name</span>=<span style=\"color: #008000; text-decoration-color: #008000\">'1dfbaa26-9e89-49be-aeaf-c36df05f5fd7'</span>,\n",
       "    <span style=\"color: #808000; text-decoration-color: #808000\">human_loop_arn</span>=<span style=\"color: #008000; text-decoration-color: #008000\">'arn:aws:sagemaker:us-east-1:111122223333:human-loop/1dfbaa26-9e89-49be-aeaf-c36df05f5fd7'</span>,\n",
       "    <span style=\"color: #808000; text-decoration-color: #808000\">flow_definition_arn</span>=<span style=\"color: #008000; text-decoration-color: #008000\">'arn:aws:sagemaker:us-east-1:111122223333:flow-definition/aws-a2i-example'</span>,\n",
       "    <span style=\"color: #808000; text-decoration-color: #808000\">human_loop_output_s3uri</span>=<span style=\"color: #800080; text-decoration-color: #800080; font-style: italic\">None</span>,\n",
       "    <span style=\"color: #808000; text-decoration-color: #808000\">data</span>=<span style=\"font-weight: bold\">{</span>\n",
       "        <span style=\"color: #008000; text-decoration-color: #008000\">'HumanLoopName'</span>: <span style=\"color: #008000; text-decoration-color: #008000\">'1dfbaa26-9e89-49be-aeaf-c36df05f5fd7'</span>,\n",
       "        <span style=\"color: #008000; text-decoration-color: #008000\">'HumanLoopStatus'</span>: <span style=\"color: #008000; text-decoration-color: #008000\">'InProgress'</span>,\n",
       "        <span style=\"color: #008000; text-decoration-color: #008000\">'CreationTime'</span>: <span style=\"color: #800080; text-decoration-color: #800080; font-weight: bold\">datetime.datetime</span><span style=\"font-weight: bold\">(</span><span style=\"color: #008080; text-decoration-color: #008080; font-weight: bold\">2023</span>, <span style=\"color: #008080; text-decoration-color: #008080; font-weight: bold\">7</span>, <span style=\"color: #008080; text-decoration-color: #008080; font-weight: bold\">12</span>, <span style=\"color: #008080; text-decoration-color: #008080; font-weight: bold\">0</span>, <span style=\"color: #008080; text-decoration-color: #008080; font-weight: bold\">30</span>, <span style=\"color: #008080; text-decoration-color: #008080; font-weight: bold\">4</span>, <span style=\"color: #008080; text-decoration-color: #008080; font-weight: bold\">543000</span>, <span style=\"color: #808000; text-decoration-color: #808000\">tzinfo</span>=<span style=\"color: #800080; text-decoration-color: #800080; font-weight: bold\">tzutc</span><span style=\"font-weight: bold\">())</span>,\n",
       "        <span style=\"color: #008000; text-decoration-color: #008000\">'FlowDefinitionArn'</span>: <span style=\"color: #008000; text-decoration-color: #008000\">'arn:aws:sagemaker:us-east-1:111122223333:flow-definition/aws-a2i-example'</span>\n",
       "    <span style=\"font-weight: bold\">}</span>\n",
       "<span style=\"font-weight: bold\">)</span>\n",
       "</pre>\n"
      ],
      "text/plain": [
       "\u001b[1;35mHumanLoop\u001b[0m\u001b[1m(\u001b[0m\n",
       "    \u001b[33mcreation_time\u001b[0m=\u001b[1;35mdatetime\u001b[0m\u001b[1;35m.datetime\u001b[0m\u001b[1m(\u001b[0m\u001b[1;36m2023\u001b[0m, \u001b[1;36m7\u001b[0m, \u001b[1;36m12\u001b[0m, \u001b[1;36m0\u001b[0m, \u001b[1;36m30\u001b[0m, \u001b[1;36m4\u001b[0m, \u001b[1;36m543000\u001b[0m, \u001b[33mtzinfo\u001b[0m=\u001b[1;35mtzutc\u001b[0m\u001b[1m(\u001b[0m\u001b[1m)\u001b[0m\u001b[1m)\u001b[0m,\n",
       "    \u001b[33mfailure_reason\u001b[0m=\u001b[3;35mNone\u001b[0m,\n",
       "    \u001b[33mfailure_code\u001b[0m=\u001b[3;35mNone\u001b[0m,\n",
       "    \u001b[33mhuman_loop_status\u001b[0m=\u001b[32m'InProgress'\u001b[0m,\n",
       "    \u001b[33mhuman_loop_name\u001b[0m=\u001b[32m'1dfbaa26-9e89-49be-aeaf-c36df05f5fd7'\u001b[0m,\n",
       "    \u001b[33mhuman_loop_arn\u001b[0m=\u001b[32m'arn:aws:sagemaker:us-east-1:111122223333:human-loop/1dfbaa26-9e89-49be-aeaf-c36df05f5fd7'\u001b[0m,\n",
       "    \u001b[33mflow_definition_arn\u001b[0m=\u001b[32m'arn:aws:sagemaker:us-east-1:111122223333:flow-definition/aws-a2i-example'\u001b[0m,\n",
       "    \u001b[33mhuman_loop_output_s3uri\u001b[0m=\u001b[3;35mNone\u001b[0m,\n",
       "    \u001b[33mdata\u001b[0m=\u001b[1m{\u001b[0m\n",
       "        \u001b[32m'HumanLoopName'\u001b[0m: \u001b[32m'1dfbaa26-9e89-49be-aeaf-c36df05f5fd7'\u001b[0m,\n",
       "        \u001b[32m'HumanLoopStatus'\u001b[0m: \u001b[32m'InProgress'\u001b[0m,\n",
       "        \u001b[32m'CreationTime'\u001b[0m: \u001b[1;35mdatetime.datetime\u001b[0m\u001b[1m(\u001b[0m\u001b[1;36m2023\u001b[0m, \u001b[1;36m7\u001b[0m, \u001b[1;36m12\u001b[0m, \u001b[1;36m0\u001b[0m, \u001b[1;36m30\u001b[0m, \u001b[1;36m4\u001b[0m, \u001b[1;36m543000\u001b[0m, \u001b[33mtzinfo\u001b[0m=\u001b[1;35mtzutc\u001b[0m\u001b[1m(\u001b[0m\u001b[1m)\u001b[0m\u001b[1m)\u001b[0m,\n",
       "        \u001b[32m'FlowDefinitionArn'\u001b[0m: \u001b[32m'arn:aws:sagemaker:us-east-1:111122223333:flow-definition/aws-a2i-example'\u001b[0m\n",
       "    \u001b[1m}\u001b[0m\n",
       "\u001b[1m)\u001b[0m\n"
      ]
     },
     "metadata": {},
     "output_type": "display_data"
    }
   ],
   "source": [
    "result = play.list_human_loops(bsm=bsm)\n",
    "for human_loop in result:\n",
    "    if human_loop.is_completed():\n",
    "        human_loop.get_details(bsm=bsm)\n",
    "        rprint(human_loop)\n",
    "        human_loop_output = human_loop.get_output(bsm=bsm)\n",
    "        rprint(human_loop_output)\n",
    "    else:\n",
    "        rprint(human_loop)\n"
   ]
  },
  {
   "cell_type": "markdown",
   "metadata": {
    "collapsed": false,
    "jupyter": {
     "outputs_hidden": false
    },
    "pycharm": {
     "name": "#%% md\n"
    }
   },
   "source": [
    "You can actually filter the human loops using their status (or any other attributes)"
   ]
  },
  {
   "cell_type": "code",
   "execution_count": null,
   "metadata": {
    "collapsed": false,
    "jupyter": {
     "outputs_hidden": false
    },
    "pycharm": {
     "name": "#%%\n"
    }
   },
   "outputs": [],
   "source": [
    "for human_loop in aws_a2i.list_human_loops(\n",
    "    bsm=bsm,\n",
    "    flow_definition_arn=flow_definition_arn,\n",
    ").filter(\n",
    "    lambda human_loop: human_loop.human_loop_status == aws_a2i.HumanLoopStatusEnum.InProgress.value\n",
    "):\n",
    "    pass\n"
   ]
  },
  {
   "cell_type": "markdown",
   "metadata": {
    "collapsed": false,
    "jupyter": {
     "outputs_hidden": false
    },
    "pycharm": {
     "name": "#%% md\n"
    }
   },
   "source": [
    "You can use the ``aws_a2i.render_task_template`` function to preview the task UI in your browser without starting a real human in the loop and without deploying anything. It is purely Python and purely local.\n",
    "\n",
    "![](./task-ui.png)"
   ]
  },
  {
   "cell_type": "code",
   "execution_count": 8,
   "metadata": {
    "collapsed": false,
    "jupyter": {
     "outputs_hidden": false
    },
    "pycharm": {
     "name": "#%%\n"
    }
   },
   "outputs": [
    {
     "ename": "ImportError",
     "evalue": "cannot import 'box' or 'liquid' package",
     "output_type": "error",
     "traceback": [
      "\u001b[0;31m---------------------------------------------------------------------------\u001b[0m",
      "\u001b[0;31mImportError\u001b[0m                               Traceback (most recent call last)",
      "Cell \u001b[0;32mIn[8], line 8\u001b[0m\n\u001b[1;32m      1\u001b[0m path_task_ui_html \u001b[38;5;241m=\u001b[39m dir_here\u001b[38;5;241m.\u001b[39mparent\u001b[38;5;241m.\u001b[39mjoinpath(\u001b[38;5;124m\"\u001b[39m\u001b[38;5;124mtask-ui.html\u001b[39m\u001b[38;5;124m\"\u001b[39m)\n\u001b[1;32m      2\u001b[0m input_data \u001b[38;5;241m=\u001b[39m {\n\u001b[1;32m      3\u001b[0m     \u001b[38;5;124m\"\u001b[39m\u001b[38;5;124mdate_of_expense\u001b[39m\u001b[38;5;124m\"\u001b[39m: \u001b[38;5;124m\"\u001b[39m\u001b[38;5;124m2020-01-01\u001b[39m\u001b[38;5;124m\"\u001b[39m,\n\u001b[1;32m      4\u001b[0m     \u001b[38;5;124m\"\u001b[39m\u001b[38;5;124mpayment_method\u001b[39m\u001b[38;5;124m\"\u001b[39m: \u001b[38;5;124m\"\u001b[39m\u001b[38;5;124mCredit Card\u001b[39m\u001b[38;5;124m\"\u001b[39m,\n\u001b[1;32m      5\u001b[0m     \u001b[38;5;124m\"\u001b[39m\u001b[38;5;124mpurpose_of_expenditure\u001b[39m\u001b[38;5;124m\"\u001b[39m: \u001b[38;5;124m\"\u001b[39m\u001b[38;5;124mBusiness Meal\u001b[39m\u001b[38;5;124m\"\u001b[39m,\n\u001b[1;32m      6\u001b[0m     \u001b[38;5;124m\"\u001b[39m\u001b[38;5;124mamount\u001b[39m\u001b[38;5;124m\"\u001b[39m: \u001b[38;5;124m\"\u001b[39m\u001b[38;5;124m36.99\u001b[39m\u001b[38;5;124m\"\u001b[39m,\n\u001b[1;32m      7\u001b[0m }\n\u001b[0;32m----> 8\u001b[0m \u001b[43maws_a2i\u001b[49m\u001b[38;5;241;43m.\u001b[39;49m\u001b[43mrender_task_template\u001b[49m\u001b[43m(\u001b[49m\n\u001b[1;32m      9\u001b[0m \u001b[43m    \u001b[49m\u001b[43mtask_template_content\u001b[49m\u001b[38;5;241;43m=\u001b[39;49m\u001b[43mpath_task_template\u001b[49m\u001b[38;5;241;43m.\u001b[39;49m\u001b[43mread_text\u001b[49m\u001b[43m(\u001b[49m\u001b[43m)\u001b[49m\u001b[43m,\u001b[49m\n\u001b[1;32m     10\u001b[0m \u001b[43m    \u001b[49m\u001b[43minput_data\u001b[49m\u001b[38;5;241;43m=\u001b[39;49m\u001b[43minput_data\u001b[49m\u001b[43m,\u001b[49m\n\u001b[1;32m     11\u001b[0m \u001b[43m    \u001b[49m\u001b[43mpath_task_ui_html\u001b[49m\u001b[38;5;241;43m=\u001b[39;49m\u001b[43mpath_task_ui_html\u001b[49m\u001b[43m,\u001b[49m\n\u001b[1;32m     12\u001b[0m \u001b[43m    \u001b[49m\u001b[43mpreview\u001b[49m\u001b[38;5;241;43m=\u001b[39;49m\u001b[38;5;28;43;01mTrue\u001b[39;49;00m\u001b[43m,\u001b[49m\n\u001b[1;32m     13\u001b[0m \u001b[43m)\u001b[49m\n",
      "File \u001b[0;32m~/Documents/GitHub/aws_a2i-project/aws_a2i/tools.py:28\u001b[0m, in \u001b[0;36mrender_task_template\u001b[0;34m(task_template_content, input_data, path_task_ui_html, preview)\u001b[0m\n\u001b[1;32m     22\u001b[0m \u001b[38;5;28;01mdef\u001b[39;00m \u001b[38;5;21mrender_task_template\u001b[39m(\n\u001b[1;32m     23\u001b[0m     task_template_content: \u001b[38;5;28mstr\u001b[39m,\n\u001b[1;32m     24\u001b[0m     input_data: \u001b[38;5;28mdict\u001b[39m,\n\u001b[1;32m     25\u001b[0m     path_task_ui_html: T\u001b[38;5;241m.\u001b[39mUnion[\u001b[38;5;28mstr\u001b[39m, Path, T\u001b[38;5;241m.\u001b[39mAny],\n\u001b[1;32m     26\u001b[0m     preview: \u001b[38;5;28mbool\u001b[39m \u001b[38;5;241m=\u001b[39m \u001b[38;5;28;01mTrue\u001b[39;00m,\n\u001b[1;32m     27\u001b[0m ):\n\u001b[0;32m---> 28\u001b[0m     \u001b[43m_warn_if_no_dependencies\u001b[49m\u001b[43m(\u001b[49m\u001b[43m)\u001b[49m\n\u001b[1;32m     30\u001b[0m     \u001b[38;5;66;03m# read liquid template\u001b[39;00m\n\u001b[1;32m     31\u001b[0m     template \u001b[38;5;241m=\u001b[39m Template(task_template_content)\n",
      "File \u001b[0;32m~/Documents/GitHub/aws_a2i-project/aws_a2i/tools.py:19\u001b[0m, in \u001b[0;36m_warn_if_no_dependencies\u001b[0;34m()\u001b[0m\n\u001b[1;32m     17\u001b[0m \u001b[38;5;28;01mdef\u001b[39;00m \u001b[38;5;21m_warn_if_no_dependencies\u001b[39m():\n\u001b[1;32m     18\u001b[0m     \u001b[38;5;28;01mif\u001b[39;00m HAS_DEPENDENCIES:\n\u001b[0;32m---> 19\u001b[0m         \u001b[38;5;28;01mraise\u001b[39;00m \u001b[38;5;167;01mImportError\u001b[39;00m(\u001b[38;5;124mf\u001b[39m\u001b[38;5;124m\"\u001b[39m\u001b[38;5;124mcannot import \u001b[39m\u001b[38;5;124m'\u001b[39m\u001b[38;5;124mbox\u001b[39m\u001b[38;5;124m'\u001b[39m\u001b[38;5;124m or \u001b[39m\u001b[38;5;124m'\u001b[39m\u001b[38;5;124mliquid\u001b[39m\u001b[38;5;124m'\u001b[39m\u001b[38;5;124m package\u001b[39m\u001b[38;5;124m\"\u001b[39m)\n",
      "\u001b[0;31mImportError\u001b[0m: cannot import 'box' or 'liquid' package"
     ]
    }
   ],
   "source": [
    "path_task_ui_html = dir_here.parent.joinpath(\"task-ui.html\")\n",
    "input_data = {\n",
    "    \"date_of_expense\": \"2020-01-01\",\n",
    "    \"payment_method\": \"Credit Card\",\n",
    "    \"purpose_of_expenditure\": \"Business Meal\",\n",
    "    \"amount\": \"36.99\",\n",
    "}\n",
    "aws_a2i.render_task_template(\n",
    "    task_template_content=path_task_template.read_text(),\n",
    "    input_data=input_data,\n",
    "    path_task_ui_html=path_task_ui_html,\n",
    "    preview=True,\n",
    ")"
   ]
  },
  {
   "cell_type": "markdown",
   "metadata": {
    "collapsed": false,
    "jupyter": {
     "outputs_hidden": false
    },
    "pycharm": {
     "name": "#%% md\n"
    }
   },
   "source": [
    "The usage example is done. Let's clean up AWS resources to avoid cost."
   ]
  },
  {
   "cell_type": "code",
   "execution_count": 3,
   "metadata": {
    "collapsed": false,
    "jupyter": {
     "outputs_hidden": false
    },
    "pycharm": {
     "name": "#%%\n"
    }
   },
   "outputs": [
    {
     "name": "stdout",
     "output_type": "stream",
     "text": [
      "🗑 Remove Human review workflow definition, it may takes 30 sec ~ 1 minute\n",
      "  Preview at https://us-east-1.console.aws.amazon.com/sagemaker/groundtruth?region=us-east-1#/a2i/human-review-workflows/aws-a2i-example\n",
      "start waiter, polling every 1 seconds, timeout in 30 seconds.\n",
      "  on 5 th attempt, elapsed 5 seconds, remain 25 seconds ...\n",
      "  ✅ Successfully delete flow definition 'aws-a2i-example'\n"
     ]
    }
   ],
   "source": [
    "play.remove_flow_definition(bsm=bsm)"
   ]
  },
  {
   "cell_type": "code",
   "execution_count": 4,
   "metadata": {
    "collapsed": false,
    "jupyter": {
     "outputs_hidden": false
    },
    "pycharm": {
     "name": "#%%\n"
    }
   },
   "outputs": [
    {
     "name": "stdout",
     "output_type": "stream",
     "text": [
      "🗑 Remove Human in Loop task template\n",
      "  verify at https://us-east-1.console.aws.amazon.com/sagemaker/groundtruth?region=us-east-1#/a2i/worker-task-templates/aws-a2i-example\n",
      "  ✅ Successfully removed task ui template 'aws-a2i-example'\n"
     ]
    },
    {
     "data": {
      "text/plain": [
       "False"
      ]
     },
     "execution_count": 4,
     "metadata": {},
     "output_type": "execute_result"
    }
   ],
   "source": [
    "play.remove_hil_task_template(bsm=bsm)"
   ]
  },
  {
   "cell_type": "code",
   "execution_count": null,
   "metadata": {
    "collapsed": false,
    "jupyter": {
     "outputs_hidden": false
    },
    "pycharm": {
     "name": "#%%\n"
    }
   },
   "outputs": [],
   "source": []
  }
 ],
 "metadata": {
  "kernelspec": {
   "display_name": "Python 3 (ipykernel)",
   "language": "python",
   "name": "python3"
  },
  "language_info": {
   "codemirror_mode": {
    "name": "ipython",
    "version": 3
   },
   "file_extension": ".py",
   "mimetype": "text/x-python",
   "name": "python",
   "nbconvert_exporter": "python",
   "pygments_lexer": "ipython3",
   "version": "3.8.11"
  }
 },
 "nbformat": 4,
 "nbformat_minor": 4
}
